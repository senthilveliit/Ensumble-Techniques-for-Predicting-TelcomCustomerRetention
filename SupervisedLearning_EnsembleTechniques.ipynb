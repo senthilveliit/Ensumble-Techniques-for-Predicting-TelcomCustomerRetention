{
 "cells": [
  {
   "cell_type": "markdown",
   "id": "d002a0b1",
   "metadata": {},
   "source": [
    "## Importing Libraries"
   ]
  },
  {
   "cell_type": "code",
   "execution_count": 2,
   "id": "49dde382",
   "metadata": {},
   "outputs": [],
   "source": [
    "import numpy as np \n",
    "import pandas as pd \n",
    "import matplotlib.pyplot as plt     \n",
    "%matplotlib inline \n",
    "import seaborn as sns\n",
    "from sklearn.model_selection import train_test_split\n",
    "from sklearn import metrics\n",
    "from sklearn.metrics import ConfusionMatrixDisplay\n",
    "from sklearn.metrics import classification_report\n",
    "from sklearn import tree\n",
    "from sklearn import datasets\n",
    "from xgboost import XGBClassifier\n",
    "from sklearn.preprocessing import MinMaxScaler\n",
    "from sklearn.metrics import precision_recall_fscore_support as score\n",
    "from sklearn.model_selection import StratifiedKFold, cross_val_score, GridSearchCV, RandomizedSearchCV\n",
    "from hyperopt import tpe, STATUS_OK, Trials, hp, fmin, STATUS_OK, space_eval\n",
    "from sklearn.metrics import accuracy_score,f1_score,recall_score,precision_score, confusion_matrix\n",
    "from sklearn.ensemble import RandomForestClassifier\n",
    "from sklearn.tree import DecisionTreeClassifier\n",
    "import pickle"
   ]
  },
  {
   "cell_type": "markdown",
   "id": "8ea5885f",
   "metadata": {},
   "source": [
    "## PART 1"
   ]
  },
  {
   "cell_type": "markdown",
   "id": "e4065333",
   "metadata": {},
   "source": [
    "#### Part 1- 1 a. Read ‘TelcomCustomer-Churn_1.csv’ as a DataFrame and assign it to a variable"
   ]
  },
  {
   "cell_type": "code",
   "execution_count": 2,
   "id": "0276b421",
   "metadata": {},
   "outputs": [],
   "source": [
    "df1 = pd.read_csv('C:\\\\Users\\\\Sai\\\\Desktop\\GL\\\\Project3_ensumble_techniques\\\\TelcomCustomer_Churn_1.csv')"
   ]
  },
  {
   "cell_type": "code",
   "execution_count": 3,
   "id": "d1c54aef",
   "metadata": {},
   "outputs": [
    {
     "data": {
      "text/html": [
       "<div>\n",
       "<style scoped>\n",
       "    .dataframe tbody tr th:only-of-type {\n",
       "        vertical-align: middle;\n",
       "    }\n",
       "\n",
       "    .dataframe tbody tr th {\n",
       "        vertical-align: top;\n",
       "    }\n",
       "\n",
       "    .dataframe thead th {\n",
       "        text-align: right;\n",
       "    }\n",
       "</style>\n",
       "<table border=\"1\" class=\"dataframe\">\n",
       "  <thead>\n",
       "    <tr style=\"text-align: right;\">\n",
       "      <th></th>\n",
       "      <th>customerID</th>\n",
       "      <th>gender</th>\n",
       "      <th>SeniorCitizen</th>\n",
       "      <th>Partner</th>\n",
       "      <th>Dependents</th>\n",
       "      <th>tenure</th>\n",
       "      <th>PhoneService</th>\n",
       "      <th>MultipleLines</th>\n",
       "      <th>InternetService</th>\n",
       "      <th>OnlineSecurity</th>\n",
       "    </tr>\n",
       "  </thead>\n",
       "  <tbody>\n",
       "    <tr>\n",
       "      <th>0</th>\n",
       "      <td>7590-VHVEG</td>\n",
       "      <td>Female</td>\n",
       "      <td>0</td>\n",
       "      <td>Yes</td>\n",
       "      <td>No</td>\n",
       "      <td>1</td>\n",
       "      <td>No</td>\n",
       "      <td>No phone service</td>\n",
       "      <td>DSL</td>\n",
       "      <td>No</td>\n",
       "    </tr>\n",
       "    <tr>\n",
       "      <th>1</th>\n",
       "      <td>5575-GNVDE</td>\n",
       "      <td>Male</td>\n",
       "      <td>0</td>\n",
       "      <td>No</td>\n",
       "      <td>No</td>\n",
       "      <td>34</td>\n",
       "      <td>Yes</td>\n",
       "      <td>No</td>\n",
       "      <td>DSL</td>\n",
       "      <td>Yes</td>\n",
       "    </tr>\n",
       "    <tr>\n",
       "      <th>2</th>\n",
       "      <td>3668-QPYBK</td>\n",
       "      <td>Male</td>\n",
       "      <td>0</td>\n",
       "      <td>No</td>\n",
       "      <td>No</td>\n",
       "      <td>2</td>\n",
       "      <td>Yes</td>\n",
       "      <td>No</td>\n",
       "      <td>DSL</td>\n",
       "      <td>Yes</td>\n",
       "    </tr>\n",
       "    <tr>\n",
       "      <th>3</th>\n",
       "      <td>7795-CFOCW</td>\n",
       "      <td>Male</td>\n",
       "      <td>0</td>\n",
       "      <td>No</td>\n",
       "      <td>No</td>\n",
       "      <td>45</td>\n",
       "      <td>No</td>\n",
       "      <td>No phone service</td>\n",
       "      <td>DSL</td>\n",
       "      <td>Yes</td>\n",
       "    </tr>\n",
       "    <tr>\n",
       "      <th>4</th>\n",
       "      <td>9237-HQITU</td>\n",
       "      <td>Female</td>\n",
       "      <td>0</td>\n",
       "      <td>No</td>\n",
       "      <td>No</td>\n",
       "      <td>2</td>\n",
       "      <td>Yes</td>\n",
       "      <td>No</td>\n",
       "      <td>Fiber optic</td>\n",
       "      <td>No</td>\n",
       "    </tr>\n",
       "  </tbody>\n",
       "</table>\n",
       "</div>"
      ],
      "text/plain": [
       "   customerID  gender  SeniorCitizen Partner Dependents  tenure PhoneService  \\\n",
       "0  7590-VHVEG  Female              0     Yes         No       1           No   \n",
       "1  5575-GNVDE    Male              0      No         No      34          Yes   \n",
       "2  3668-QPYBK    Male              0      No         No       2          Yes   \n",
       "3  7795-CFOCW    Male              0      No         No      45           No   \n",
       "4  9237-HQITU  Female              0      No         No       2          Yes   \n",
       "\n",
       "      MultipleLines InternetService OnlineSecurity  \n",
       "0  No phone service             DSL             No  \n",
       "1                No             DSL            Yes  \n",
       "2                No             DSL            Yes  \n",
       "3  No phone service             DSL            Yes  \n",
       "4                No     Fiber optic             No  "
      ]
     },
     "execution_count": 3,
     "metadata": {},
     "output_type": "execute_result"
    }
   ],
   "source": [
    "df1.head()"
   ]
  },
  {
   "cell_type": "markdown",
   "id": "58e3fcf7",
   "metadata": {},
   "source": [
    "#### Part 1- 1 b.Read ‘TelcomCustomer-Churn_2.csv’ as a DataFrame and assign it to a variable"
   ]
  },
  {
   "cell_type": "code",
   "execution_count": 4,
   "id": "3803e8c1",
   "metadata": {},
   "outputs": [],
   "source": [
    "df2 = pd.read_csv('C:\\\\Users\\\\Sai\\\\Desktop\\GL\\\\Project3_ensumble_techniques\\\\TelcomCustomer_Churn_2.csv')"
   ]
  },
  {
   "cell_type": "code",
   "execution_count": 5,
   "id": "d5ad936a",
   "metadata": {},
   "outputs": [
    {
     "data": {
      "text/html": [
       "<div>\n",
       "<style scoped>\n",
       "    .dataframe tbody tr th:only-of-type {\n",
       "        vertical-align: middle;\n",
       "    }\n",
       "\n",
       "    .dataframe tbody tr th {\n",
       "        vertical-align: top;\n",
       "    }\n",
       "\n",
       "    .dataframe thead th {\n",
       "        text-align: right;\n",
       "    }\n",
       "</style>\n",
       "<table border=\"1\" class=\"dataframe\">\n",
       "  <thead>\n",
       "    <tr style=\"text-align: right;\">\n",
       "      <th></th>\n",
       "      <th>customerID</th>\n",
       "      <th>OnlineBackup</th>\n",
       "      <th>DeviceProtection</th>\n",
       "      <th>TechSupport</th>\n",
       "      <th>StreamingTV</th>\n",
       "      <th>StreamingMovies</th>\n",
       "      <th>Contract</th>\n",
       "      <th>PaperlessBilling</th>\n",
       "      <th>PaymentMethod</th>\n",
       "      <th>MonthlyCharges</th>\n",
       "      <th>TotalCharges</th>\n",
       "      <th>Churn</th>\n",
       "    </tr>\n",
       "  </thead>\n",
       "  <tbody>\n",
       "    <tr>\n",
       "      <th>0</th>\n",
       "      <td>7590-VHVEG</td>\n",
       "      <td>Yes</td>\n",
       "      <td>No</td>\n",
       "      <td>No</td>\n",
       "      <td>No</td>\n",
       "      <td>No</td>\n",
       "      <td>Month-to-month</td>\n",
       "      <td>Yes</td>\n",
       "      <td>Electronic check</td>\n",
       "      <td>29.85</td>\n",
       "      <td>29.85</td>\n",
       "      <td>No</td>\n",
       "    </tr>\n",
       "    <tr>\n",
       "      <th>1</th>\n",
       "      <td>5575-GNVDE</td>\n",
       "      <td>No</td>\n",
       "      <td>Yes</td>\n",
       "      <td>No</td>\n",
       "      <td>No</td>\n",
       "      <td>No</td>\n",
       "      <td>One year</td>\n",
       "      <td>No</td>\n",
       "      <td>Mailed check</td>\n",
       "      <td>56.95</td>\n",
       "      <td>1889.5</td>\n",
       "      <td>No</td>\n",
       "    </tr>\n",
       "    <tr>\n",
       "      <th>2</th>\n",
       "      <td>3668-QPYBK</td>\n",
       "      <td>Yes</td>\n",
       "      <td>No</td>\n",
       "      <td>No</td>\n",
       "      <td>No</td>\n",
       "      <td>No</td>\n",
       "      <td>Month-to-month</td>\n",
       "      <td>Yes</td>\n",
       "      <td>Mailed check</td>\n",
       "      <td>53.85</td>\n",
       "      <td>108.15</td>\n",
       "      <td>Yes</td>\n",
       "    </tr>\n",
       "    <tr>\n",
       "      <th>3</th>\n",
       "      <td>7795-CFOCW</td>\n",
       "      <td>No</td>\n",
       "      <td>Yes</td>\n",
       "      <td>Yes</td>\n",
       "      <td>No</td>\n",
       "      <td>No</td>\n",
       "      <td>One year</td>\n",
       "      <td>No</td>\n",
       "      <td>Bank transfer (automatic)</td>\n",
       "      <td>42.30</td>\n",
       "      <td>1840.75</td>\n",
       "      <td>No</td>\n",
       "    </tr>\n",
       "    <tr>\n",
       "      <th>4</th>\n",
       "      <td>9237-HQITU</td>\n",
       "      <td>No</td>\n",
       "      <td>No</td>\n",
       "      <td>No</td>\n",
       "      <td>No</td>\n",
       "      <td>No</td>\n",
       "      <td>Month-to-month</td>\n",
       "      <td>Yes</td>\n",
       "      <td>Electronic check</td>\n",
       "      <td>70.70</td>\n",
       "      <td>151.65</td>\n",
       "      <td>Yes</td>\n",
       "    </tr>\n",
       "  </tbody>\n",
       "</table>\n",
       "</div>"
      ],
      "text/plain": [
       "   customerID OnlineBackup DeviceProtection TechSupport StreamingTV  \\\n",
       "0  7590-VHVEG          Yes               No          No          No   \n",
       "1  5575-GNVDE           No              Yes          No          No   \n",
       "2  3668-QPYBK          Yes               No          No          No   \n",
       "3  7795-CFOCW           No              Yes         Yes          No   \n",
       "4  9237-HQITU           No               No          No          No   \n",
       "\n",
       "  StreamingMovies        Contract PaperlessBilling              PaymentMethod  \\\n",
       "0              No  Month-to-month              Yes           Electronic check   \n",
       "1              No        One year               No               Mailed check   \n",
       "2              No  Month-to-month              Yes               Mailed check   \n",
       "3              No        One year               No  Bank transfer (automatic)   \n",
       "4              No  Month-to-month              Yes           Electronic check   \n",
       "\n",
       "   MonthlyCharges TotalCharges Churn  \n",
       "0           29.85        29.85    No  \n",
       "1           56.95       1889.5    No  \n",
       "2           53.85       108.15   Yes  \n",
       "3           42.30      1840.75    No  \n",
       "4           70.70       151.65   Yes  "
      ]
     },
     "execution_count": 5,
     "metadata": {},
     "output_type": "execute_result"
    }
   ],
   "source": [
    "df2.head()"
   ]
  },
  {
   "cell_type": "markdown",
   "id": "f90b5ee8",
   "metadata": {},
   "source": [
    "#### Part 1- 1 c.Merge both the DataFrames on key ‘customerID’ to form a single DataFrame"
   ]
  },
  {
   "cell_type": "code",
   "execution_count": 6,
   "id": "b466d559",
   "metadata": {},
   "outputs": [
    {
     "data": {
      "text/html": [
       "<div>\n",
       "<style scoped>\n",
       "    .dataframe tbody tr th:only-of-type {\n",
       "        vertical-align: middle;\n",
       "    }\n",
       "\n",
       "    .dataframe tbody tr th {\n",
       "        vertical-align: top;\n",
       "    }\n",
       "\n",
       "    .dataframe thead th {\n",
       "        text-align: right;\n",
       "    }\n",
       "</style>\n",
       "<table border=\"1\" class=\"dataframe\">\n",
       "  <thead>\n",
       "    <tr style=\"text-align: right;\">\n",
       "      <th></th>\n",
       "      <th>customerID</th>\n",
       "      <th>gender</th>\n",
       "      <th>SeniorCitizen</th>\n",
       "      <th>Partner</th>\n",
       "      <th>Dependents</th>\n",
       "      <th>tenure</th>\n",
       "      <th>PhoneService</th>\n",
       "      <th>MultipleLines</th>\n",
       "      <th>InternetService</th>\n",
       "      <th>OnlineSecurity</th>\n",
       "      <th>...</th>\n",
       "      <th>DeviceProtection</th>\n",
       "      <th>TechSupport</th>\n",
       "      <th>StreamingTV</th>\n",
       "      <th>StreamingMovies</th>\n",
       "      <th>Contract</th>\n",
       "      <th>PaperlessBilling</th>\n",
       "      <th>PaymentMethod</th>\n",
       "      <th>MonthlyCharges</th>\n",
       "      <th>TotalCharges</th>\n",
       "      <th>Churn</th>\n",
       "    </tr>\n",
       "  </thead>\n",
       "  <tbody>\n",
       "    <tr>\n",
       "      <th>0</th>\n",
       "      <td>7590-VHVEG</td>\n",
       "      <td>Female</td>\n",
       "      <td>0</td>\n",
       "      <td>Yes</td>\n",
       "      <td>No</td>\n",
       "      <td>1</td>\n",
       "      <td>No</td>\n",
       "      <td>No phone service</td>\n",
       "      <td>DSL</td>\n",
       "      <td>No</td>\n",
       "      <td>...</td>\n",
       "      <td>No</td>\n",
       "      <td>No</td>\n",
       "      <td>No</td>\n",
       "      <td>No</td>\n",
       "      <td>Month-to-month</td>\n",
       "      <td>Yes</td>\n",
       "      <td>Electronic check</td>\n",
       "      <td>29.85</td>\n",
       "      <td>29.85</td>\n",
       "      <td>No</td>\n",
       "    </tr>\n",
       "    <tr>\n",
       "      <th>1</th>\n",
       "      <td>5575-GNVDE</td>\n",
       "      <td>Male</td>\n",
       "      <td>0</td>\n",
       "      <td>No</td>\n",
       "      <td>No</td>\n",
       "      <td>34</td>\n",
       "      <td>Yes</td>\n",
       "      <td>No</td>\n",
       "      <td>DSL</td>\n",
       "      <td>Yes</td>\n",
       "      <td>...</td>\n",
       "      <td>Yes</td>\n",
       "      <td>No</td>\n",
       "      <td>No</td>\n",
       "      <td>No</td>\n",
       "      <td>One year</td>\n",
       "      <td>No</td>\n",
       "      <td>Mailed check</td>\n",
       "      <td>56.95</td>\n",
       "      <td>1889.5</td>\n",
       "      <td>No</td>\n",
       "    </tr>\n",
       "    <tr>\n",
       "      <th>2</th>\n",
       "      <td>3668-QPYBK</td>\n",
       "      <td>Male</td>\n",
       "      <td>0</td>\n",
       "      <td>No</td>\n",
       "      <td>No</td>\n",
       "      <td>2</td>\n",
       "      <td>Yes</td>\n",
       "      <td>No</td>\n",
       "      <td>DSL</td>\n",
       "      <td>Yes</td>\n",
       "      <td>...</td>\n",
       "      <td>No</td>\n",
       "      <td>No</td>\n",
       "      <td>No</td>\n",
       "      <td>No</td>\n",
       "      <td>Month-to-month</td>\n",
       "      <td>Yes</td>\n",
       "      <td>Mailed check</td>\n",
       "      <td>53.85</td>\n",
       "      <td>108.15</td>\n",
       "      <td>Yes</td>\n",
       "    </tr>\n",
       "    <tr>\n",
       "      <th>3</th>\n",
       "      <td>7795-CFOCW</td>\n",
       "      <td>Male</td>\n",
       "      <td>0</td>\n",
       "      <td>No</td>\n",
       "      <td>No</td>\n",
       "      <td>45</td>\n",
       "      <td>No</td>\n",
       "      <td>No phone service</td>\n",
       "      <td>DSL</td>\n",
       "      <td>Yes</td>\n",
       "      <td>...</td>\n",
       "      <td>Yes</td>\n",
       "      <td>Yes</td>\n",
       "      <td>No</td>\n",
       "      <td>No</td>\n",
       "      <td>One year</td>\n",
       "      <td>No</td>\n",
       "      <td>Bank transfer (automatic)</td>\n",
       "      <td>42.30</td>\n",
       "      <td>1840.75</td>\n",
       "      <td>No</td>\n",
       "    </tr>\n",
       "    <tr>\n",
       "      <th>4</th>\n",
       "      <td>9237-HQITU</td>\n",
       "      <td>Female</td>\n",
       "      <td>0</td>\n",
       "      <td>No</td>\n",
       "      <td>No</td>\n",
       "      <td>2</td>\n",
       "      <td>Yes</td>\n",
       "      <td>No</td>\n",
       "      <td>Fiber optic</td>\n",
       "      <td>No</td>\n",
       "      <td>...</td>\n",
       "      <td>No</td>\n",
       "      <td>No</td>\n",
       "      <td>No</td>\n",
       "      <td>No</td>\n",
       "      <td>Month-to-month</td>\n",
       "      <td>Yes</td>\n",
       "      <td>Electronic check</td>\n",
       "      <td>70.70</td>\n",
       "      <td>151.65</td>\n",
       "      <td>Yes</td>\n",
       "    </tr>\n",
       "  </tbody>\n",
       "</table>\n",
       "<p>5 rows × 21 columns</p>\n",
       "</div>"
      ],
      "text/plain": [
       "   customerID  gender  SeniorCitizen Partner Dependents  tenure PhoneService  \\\n",
       "0  7590-VHVEG  Female              0     Yes         No       1           No   \n",
       "1  5575-GNVDE    Male              0      No         No      34          Yes   \n",
       "2  3668-QPYBK    Male              0      No         No       2          Yes   \n",
       "3  7795-CFOCW    Male              0      No         No      45           No   \n",
       "4  9237-HQITU  Female              0      No         No       2          Yes   \n",
       "\n",
       "      MultipleLines InternetService OnlineSecurity  ... DeviceProtection  \\\n",
       "0  No phone service             DSL             No  ...               No   \n",
       "1                No             DSL            Yes  ...              Yes   \n",
       "2                No             DSL            Yes  ...               No   \n",
       "3  No phone service             DSL            Yes  ...              Yes   \n",
       "4                No     Fiber optic             No  ...               No   \n",
       "\n",
       "  TechSupport StreamingTV StreamingMovies        Contract PaperlessBilling  \\\n",
       "0          No          No              No  Month-to-month              Yes   \n",
       "1          No          No              No        One year               No   \n",
       "2          No          No              No  Month-to-month              Yes   \n",
       "3         Yes          No              No        One year               No   \n",
       "4          No          No              No  Month-to-month              Yes   \n",
       "\n",
       "               PaymentMethod MonthlyCharges  TotalCharges Churn  \n",
       "0           Electronic check          29.85         29.85    No  \n",
       "1               Mailed check          56.95        1889.5    No  \n",
       "2               Mailed check          53.85        108.15   Yes  \n",
       "3  Bank transfer (automatic)          42.30       1840.75    No  \n",
       "4           Electronic check          70.70        151.65   Yes  \n",
       "\n",
       "[5 rows x 21 columns]"
      ]
     },
     "execution_count": 6,
     "metadata": {},
     "output_type": "execute_result"
    }
   ],
   "source": [
    "ndf = pd.merge(df1,df2, on = 'customerID')\n",
    "ndf.head()"
   ]
  },
  {
   "cell_type": "markdown",
   "id": "6c67a341",
   "metadata": {},
   "source": [
    "#### Part 1- 1 d.Verify if all the columns are incorporated in the merged DataFrame by using simple comparisonOperator in Python"
   ]
  },
  {
   "cell_type": "code",
   "execution_count": 7,
   "id": "b4681741",
   "metadata": {},
   "outputs": [
    {
     "data": {
      "text/plain": [
       "(7043, 10)"
      ]
     },
     "execution_count": 7,
     "metadata": {},
     "output_type": "execute_result"
    }
   ],
   "source": [
    "df1.shape"
   ]
  },
  {
   "cell_type": "code",
   "execution_count": 8,
   "id": "c0ada117",
   "metadata": {},
   "outputs": [
    {
     "data": {
      "text/plain": [
       "(7043, 12)"
      ]
     },
     "execution_count": 8,
     "metadata": {},
     "output_type": "execute_result"
    }
   ],
   "source": [
    "df2.shape"
   ]
  },
  {
   "cell_type": "code",
   "execution_count": 9,
   "id": "ba002f6a",
   "metadata": {},
   "outputs": [
    {
     "data": {
      "text/plain": [
       "(7043, 21)"
      ]
     },
     "execution_count": 9,
     "metadata": {},
     "output_type": "execute_result"
    }
   ],
   "source": [
    "ndf.shape"
   ]
  },
  {
   "cell_type": "code",
   "execution_count": 10,
   "id": "2a873b33",
   "metadata": {},
   "outputs": [
    {
     "name": "stdout",
     "output_type": "stream",
     "text": [
      "All the columns in the DataFrame are same\n"
     ]
    }
   ],
   "source": [
    "columnname1 = df1.columns\n",
    "columnname2 = df2.columns\n",
    "columnname3 = ndf.columns\n",
    "if columnname3.all() in (columnname2.all(), columnname3.all()):\n",
    "    print('All the columns in the DataFrame are same')\n",
    "else:\n",
    "    print('All the columns in the DataFrame are not same')"
   ]
  },
  {
   "cell_type": "markdown",
   "id": "0ef79cba",
   "metadata": {},
   "source": [
    "###### * All the columns in the Dataframe are merged propely"
   ]
  },
  {
   "cell_type": "markdown",
   "id": "3f128d01",
   "metadata": {},
   "source": [
    "#### Part 1- 2 a Impute missing/unexpected values in the DataFrame"
   ]
  },
  {
   "cell_type": "code",
   "execution_count": 11,
   "id": "f2135ae8",
   "metadata": {},
   "outputs": [
    {
     "data": {
      "text/plain": [
       "customerID          0\n",
       "gender              0\n",
       "SeniorCitizen       0\n",
       "Partner             0\n",
       "Dependents          0\n",
       "tenure              0\n",
       "PhoneService        0\n",
       "MultipleLines       0\n",
       "InternetService     0\n",
       "OnlineSecurity      0\n",
       "OnlineBackup        0\n",
       "DeviceProtection    0\n",
       "TechSupport         0\n",
       "StreamingTV         0\n",
       "StreamingMovies     0\n",
       "Contract            0\n",
       "PaperlessBilling    0\n",
       "PaymentMethod       0\n",
       "MonthlyCharges      0\n",
       "TotalCharges        0\n",
       "Churn               0\n",
       "dtype: int64"
      ]
     },
     "execution_count": 11,
     "metadata": {},
     "output_type": "execute_result"
    }
   ],
   "source": [
    "percentage_missing = ndf.isnull().sum() * 100 / len(ndf)\n",
    "ndf = ndf.replace(r'^\\s*$', np.nan, regex=True)\n",
    "ndf = ndf.apply(lambda x: x.fillna(0),axis=0)\n",
    "missing_values = [\"?\", \"a\", \"-\",\"\"]\n",
    "ndfnew = ndf.replace(missing_values, np.nan)\n",
    "ndfnew = ndfnew.apply(lambda x: x.fillna(0),axis=0)\n",
    "ndfnew.isnull().sum()"
   ]
  },
  {
   "cell_type": "markdown",
   "id": "d0a058c4",
   "metadata": {},
   "source": [
    "#### part 1- 2 b Make sure all the variables with continuous values are of ‘Float’ type"
   ]
  },
  {
   "cell_type": "code",
   "execution_count": 12,
   "id": "725d084d",
   "metadata": {
    "scrolled": false
   },
   "outputs": [
    {
     "name": "stdout",
     "output_type": "stream",
     "text": [
      "<class 'pandas.core.frame.DataFrame'>\n",
      "Int64Index: 7043 entries, 0 to 7042\n",
      "Data columns (total 21 columns):\n",
      " #   Column            Non-Null Count  Dtype  \n",
      "---  ------            --------------  -----  \n",
      " 0   customerID        7043 non-null   object \n",
      " 1   gender            7043 non-null   object \n",
      " 2   SeniorCitizen     7043 non-null   int64  \n",
      " 3   Partner           7043 non-null   object \n",
      " 4   Dependents        7043 non-null   object \n",
      " 5   tenure            7043 non-null   int64  \n",
      " 6   PhoneService      7043 non-null   object \n",
      " 7   MultipleLines     7043 non-null   object \n",
      " 8   InternetService   7043 non-null   object \n",
      " 9   OnlineSecurity    7043 non-null   object \n",
      " 10  OnlineBackup      7043 non-null   object \n",
      " 11  DeviceProtection  7043 non-null   object \n",
      " 12  TechSupport       7043 non-null   object \n",
      " 13  StreamingTV       7043 non-null   object \n",
      " 14  StreamingMovies   7043 non-null   object \n",
      " 15  Contract          7043 non-null   object \n",
      " 16  PaperlessBilling  7043 non-null   object \n",
      " 17  PaymentMethod     7043 non-null   object \n",
      " 18  MonthlyCharges    7043 non-null   float64\n",
      " 19  TotalCharges      7043 non-null   object \n",
      " 20  Churn             7043 non-null   object \n",
      "dtypes: float64(1), int64(2), object(18)\n",
      "memory usage: 1.2+ MB\n"
     ]
    }
   ],
   "source": [
    "ndfnew.info()"
   ]
  },
  {
   "cell_type": "markdown",
   "id": "7ee7fadf",
   "metadata": {},
   "source": [
    "##### * TotalCharges is a continuous variable. It should be converted to float"
   ]
  },
  {
   "cell_type": "code",
   "execution_count": 13,
   "id": "85a63172",
   "metadata": {},
   "outputs": [
    {
     "name": "stdout",
     "output_type": "stream",
     "text": [
      "<class 'pandas.core.frame.DataFrame'>\n",
      "Int64Index: 7043 entries, 0 to 7042\n",
      "Data columns (total 21 columns):\n",
      " #   Column            Non-Null Count  Dtype  \n",
      "---  ------            --------------  -----  \n",
      " 0   customerID        7043 non-null   object \n",
      " 1   gender            7043 non-null   object \n",
      " 2   SeniorCitizen     7043 non-null   int64  \n",
      " 3   Partner           7043 non-null   object \n",
      " 4   Dependents        7043 non-null   object \n",
      " 5   tenure            7043 non-null   int64  \n",
      " 6   PhoneService      7043 non-null   object \n",
      " 7   MultipleLines     7043 non-null   object \n",
      " 8   InternetService   7043 non-null   object \n",
      " 9   OnlineSecurity    7043 non-null   object \n",
      " 10  OnlineBackup      7043 non-null   object \n",
      " 11  DeviceProtection  7043 non-null   object \n",
      " 12  TechSupport       7043 non-null   object \n",
      " 13  StreamingTV       7043 non-null   object \n",
      " 14  StreamingMovies   7043 non-null   object \n",
      " 15  Contract          7043 non-null   object \n",
      " 16  PaperlessBilling  7043 non-null   object \n",
      " 17  PaymentMethod     7043 non-null   object \n",
      " 18  MonthlyCharges    7043 non-null   float64\n",
      " 19  TotalCharges      7043 non-null   float64\n",
      " 20  Churn             7043 non-null   object \n",
      "dtypes: float64(2), int64(2), object(17)\n",
      "memory usage: 1.2+ MB\n"
     ]
    }
   ],
   "source": [
    "ndfnew['TotalCharges'] = ndfnew['TotalCharges'].apply(pd.to_numeric, errors='coerce')\n",
    "ndfnew.info()"
   ]
  },
  {
   "cell_type": "markdown",
   "id": "94cf0779",
   "metadata": {},
   "source": [
    "#### Part 1- 2 c Create a function that will accept a DataFrame as input and return pie-charts for all theappropriate Categorical features. Clearly show percentage distribution in the pie-chart."
   ]
  },
  {
   "cell_type": "code",
   "execution_count": 14,
   "id": "65f9a8ba",
   "metadata": {},
   "outputs": [],
   "source": [
    "ndfnew = ndfnew.drop(['customerID'], axis=1)"
   ]
  },
  {
   "cell_type": "code",
   "execution_count": 15,
   "id": "e5a06320",
   "metadata": {},
   "outputs": [
    {
     "data": {
      "image/png": "[encoded data removed]",
      "text/plain": [
       "<Figure size 1080x648 with 16 Axes>"
      ]
     },
     "metadata": {},
     "output_type": "display_data"
    }
   ],
   "source": [
    "def pie_chart(ndf_pie,m):\n",
    "    x1 = []\n",
    "    for i in ndf_pie:\n",
    "        x1.append(i)\n",
    "    y1 = []\n",
    "    for i in x1:\n",
    "        if (ndfnew[i].dtype.name) == 'object':\n",
    "            y1.append(i)  \n",
    "    plt.figure(figsize=(15, 9))\n",
    "    plt.subplots_adjust(hspace=0.8)\n",
    "    plt.suptitle(\"Pie_CHARTS FOR CATAGORICAL VARIABLES\", fontsize=14, y=1)\n",
    "    \n",
    "    ncols = m\n",
    "    nrows = len(y1) // ncols + (len(y1) % ncols > 0)\n",
    "    \n",
    "    for n, i in enumerate(y1):\n",
    "        ax = plt.subplot(nrows, ncols, n+1)\n",
    "        ndfnew.groupby(i).size().plot(kind='pie', autopct='%.1f%%',ax=ax)\n",
    "        ax.set_title(i.upper())\n",
    "        ax.set_xlabel(\"\")\n",
    "        ax.set_ylabel(\"\")\n",
    "    plt.show()\n",
    "\n",
    "pie_chart(ndfnew,4) "
   ]
  },
  {
   "cell_type": "markdown",
   "id": "88ef0937",
   "metadata": {},
   "source": [
    "#### Part 1- 2 d.Share insights for Q2.c"
   ]
  },
  {
   "cell_type": "markdown",
   "id": "53f4cd1a",
   "metadata": {},
   "source": [
    " <li> 73.46% of the customer left the telecom company and only 26.54% of customers are still continuing the connections.\n",
    " <li>    Only 29.96% of customers having dependents\n",
    " <li>    Majority of the Customers (90.32%), having phone service\n",
    " <li>    43.96% of customers using fibre optic internet service\n",
    " <li>    49.67% of customers are not using online security\n",
    " <li>    43.84% of customers doen't use online backup and 43.94% of people not having device protection\n",
    " <li>    49.31% of customers not availing the techsupport\n",
    " <li>    around 39% of people streaming movies and TV\n",
    " <li>    21.67% of customers not having internet connections\n",
    " <li>    55% of Customers are using month to month packs\n",
    " <li>    26.54% of customers are left the service in the past month"
   ]
  },
  {
   "cell_type": "markdown",
   "id": "60e45239",
   "metadata": {},
   "source": [
    "#### Part 1 - 2 e.Encode all the appropriate Categorical features with the best suitable approach"
   ]
  },
  {
   "cell_type": "code",
   "execution_count": 16,
   "id": "386c37f9",
   "metadata": {},
   "outputs": [
    {
     "name": "stdout",
     "output_type": "stream",
     "text": [
      "Male      3555\n",
      "Female    3488\n",
      "Name: gender, dtype: int64\n",
      "0    5901\n",
      "1    1142\n",
      "Name: SeniorCitizen, dtype: int64\n",
      "No     3641\n",
      "Yes    3402\n",
      "Name: Partner, dtype: int64\n",
      "No     4933\n",
      "Yes    2110\n",
      "Name: Dependents, dtype: int64\n",
      "1     613\n",
      "72    362\n",
      "2     238\n",
      "3     200\n",
      "4     176\n",
      "     ... \n",
      "28     57\n",
      "39     56\n",
      "44     51\n",
      "36     50\n",
      "0      11\n",
      "Name: tenure, Length: 73, dtype: int64\n",
      "Yes    6361\n",
      "No      682\n",
      "Name: PhoneService, dtype: int64\n",
      "No                  3390\n",
      "Yes                 2971\n",
      "No phone service     682\n",
      "Name: MultipleLines, dtype: int64\n",
      "Fiber optic    3096\n",
      "DSL            2421\n",
      "No             1526\n",
      "Name: InternetService, dtype: int64\n",
      "No                     3498\n",
      "Yes                    2019\n",
      "No internet service    1526\n",
      "Name: OnlineSecurity, dtype: int64\n",
      "No                     3088\n",
      "Yes                    2429\n",
      "No internet service    1526\n",
      "Name: OnlineBackup, dtype: int64\n",
      "No                     3095\n",
      "Yes                    2422\n",
      "No internet service    1526\n",
      "Name: DeviceProtection, dtype: int64\n",
      "No                     3473\n",
      "Yes                    2044\n",
      "No internet service    1526\n",
      "Name: TechSupport, dtype: int64\n",
      "No                     2810\n",
      "Yes                    2707\n",
      "No internet service    1526\n",
      "Name: StreamingTV, dtype: int64\n",
      "No                     2785\n",
      "Yes                    2732\n",
      "No internet service    1526\n",
      "Name: StreamingMovies, dtype: int64\n",
      "Month-to-month    3875\n",
      "Two year          1695\n",
      "One year          1473\n",
      "Name: Contract, dtype: int64\n",
      "Yes    4171\n",
      "No     2872\n",
      "Name: PaperlessBilling, dtype: int64\n",
      "Electronic check             2365\n",
      "Mailed check                 1612\n",
      "Bank transfer (automatic)    1544\n",
      "Credit card (automatic)      1522\n",
      "Name: PaymentMethod, dtype: int64\n",
      "No     5174\n",
      "Yes    1869\n",
      "Name: Churn, dtype: int64\n"
     ]
    }
   ],
   "source": [
    "print(ndfnew.gender.value_counts())\n",
    "print(ndfnew.SeniorCitizen.value_counts())\n",
    "print(ndfnew.Partner.value_counts())\n",
    "print(ndfnew.Dependents.value_counts())\n",
    "print(ndfnew.tenure.value_counts())\n",
    "print(ndfnew.PhoneService.value_counts())\n",
    "print(ndfnew.MultipleLines.value_counts())\n",
    "print(ndfnew.InternetService.value_counts())\n",
    "print(ndfnew.OnlineSecurity.value_counts())\n",
    "print(ndfnew.OnlineBackup.value_counts())\n",
    "print(ndfnew.DeviceProtection.value_counts())\n",
    "print(ndfnew.TechSupport.value_counts())\n",
    "print(ndfnew.StreamingTV.value_counts())\n",
    "print(ndfnew.StreamingMovies.value_counts())\n",
    "print(ndfnew.Contract.value_counts())\n",
    "print(ndfnew.PaperlessBilling.value_counts())\n",
    "print(ndfnew.PaymentMethod.value_counts())\n",
    "print(ndfnew.Churn.value_counts())"
   ]
  },
  {
   "cell_type": "code",
   "execution_count": 17,
   "id": "8ccb2885",
   "metadata": {},
   "outputs": [
    {
     "data": {
      "text/plain": [
       "array([0, 1], dtype=int64)"
      ]
     },
     "execution_count": 17,
     "metadata": {},
     "output_type": "execute_result"
    }
   ],
   "source": [
    "replace = {\"Churn\": {\"Yes\":1,\"No\":0}}\n",
    "ndfy_encoded = ndfnew.replace(replace)\n",
    "y = ndfy_encoded['Churn'].copy()\n",
    "y.unique()"
   ]
  },
  {
   "cell_type": "code",
   "execution_count": 18,
   "id": "b995f190",
   "metadata": {},
   "outputs": [
    {
     "data": {
      "text/html": [
       "<div>\n",
       "<style scoped>\n",
       "    .dataframe tbody tr th:only-of-type {\n",
       "        vertical-align: middle;\n",
       "    }\n",
       "\n",
       "    .dataframe tbody tr th {\n",
       "        vertical-align: top;\n",
       "    }\n",
       "\n",
       "    .dataframe thead th {\n",
       "        text-align: right;\n",
       "    }\n",
       "</style>\n",
       "<table border=\"1\" class=\"dataframe\">\n",
       "  <thead>\n",
       "    <tr style=\"text-align: right;\">\n",
       "      <th></th>\n",
       "      <th>SeniorCitizen</th>\n",
       "      <th>tenure</th>\n",
       "      <th>MonthlyCharges</th>\n",
       "      <th>TotalCharges</th>\n",
       "      <th>Churn</th>\n",
       "      <th>gender_Female</th>\n",
       "      <th>gender_Male</th>\n",
       "      <th>Partner_No</th>\n",
       "      <th>Partner_Yes</th>\n",
       "      <th>Dependents_No</th>\n",
       "      <th>...</th>\n",
       "      <th>StreamingMovies_Yes</th>\n",
       "      <th>Contract_Month-to-month</th>\n",
       "      <th>Contract_One year</th>\n",
       "      <th>Contract_Two year</th>\n",
       "      <th>PaperlessBilling_No</th>\n",
       "      <th>PaperlessBilling_Yes</th>\n",
       "      <th>PaymentMethod_Bank transfer (automatic)</th>\n",
       "      <th>PaymentMethod_Credit card (automatic)</th>\n",
       "      <th>PaymentMethod_Electronic check</th>\n",
       "      <th>PaymentMethod_Mailed check</th>\n",
       "    </tr>\n",
       "  </thead>\n",
       "  <tbody>\n",
       "    <tr>\n",
       "      <th>0</th>\n",
       "      <td>0</td>\n",
       "      <td>1</td>\n",
       "      <td>29.85</td>\n",
       "      <td>29.85</td>\n",
       "      <td>0</td>\n",
       "      <td>1</td>\n",
       "      <td>0</td>\n",
       "      <td>0</td>\n",
       "      <td>1</td>\n",
       "      <td>1</td>\n",
       "      <td>...</td>\n",
       "      <td>0</td>\n",
       "      <td>1</td>\n",
       "      <td>0</td>\n",
       "      <td>0</td>\n",
       "      <td>0</td>\n",
       "      <td>1</td>\n",
       "      <td>0</td>\n",
       "      <td>0</td>\n",
       "      <td>1</td>\n",
       "      <td>0</td>\n",
       "    </tr>\n",
       "    <tr>\n",
       "      <th>1</th>\n",
       "      <td>0</td>\n",
       "      <td>34</td>\n",
       "      <td>56.95</td>\n",
       "      <td>1889.50</td>\n",
       "      <td>0</td>\n",
       "      <td>0</td>\n",
       "      <td>1</td>\n",
       "      <td>1</td>\n",
       "      <td>0</td>\n",
       "      <td>1</td>\n",
       "      <td>...</td>\n",
       "      <td>0</td>\n",
       "      <td>0</td>\n",
       "      <td>1</td>\n",
       "      <td>0</td>\n",
       "      <td>1</td>\n",
       "      <td>0</td>\n",
       "      <td>0</td>\n",
       "      <td>0</td>\n",
       "      <td>0</td>\n",
       "      <td>1</td>\n",
       "    </tr>\n",
       "    <tr>\n",
       "      <th>2</th>\n",
       "      <td>0</td>\n",
       "      <td>2</td>\n",
       "      <td>53.85</td>\n",
       "      <td>108.15</td>\n",
       "      <td>1</td>\n",
       "      <td>0</td>\n",
       "      <td>1</td>\n",
       "      <td>1</td>\n",
       "      <td>0</td>\n",
       "      <td>1</td>\n",
       "      <td>...</td>\n",
       "      <td>0</td>\n",
       "      <td>1</td>\n",
       "      <td>0</td>\n",
       "      <td>0</td>\n",
       "      <td>0</td>\n",
       "      <td>1</td>\n",
       "      <td>0</td>\n",
       "      <td>0</td>\n",
       "      <td>0</td>\n",
       "      <td>1</td>\n",
       "    </tr>\n",
       "    <tr>\n",
       "      <th>3</th>\n",
       "      <td>0</td>\n",
       "      <td>45</td>\n",
       "      <td>42.30</td>\n",
       "      <td>1840.75</td>\n",
       "      <td>0</td>\n",
       "      <td>0</td>\n",
       "      <td>1</td>\n",
       "      <td>1</td>\n",
       "      <td>0</td>\n",
       "      <td>1</td>\n",
       "      <td>...</td>\n",
       "      <td>0</td>\n",
       "      <td>0</td>\n",
       "      <td>1</td>\n",
       "      <td>0</td>\n",
       "      <td>1</td>\n",
       "      <td>0</td>\n",
       "      <td>1</td>\n",
       "      <td>0</td>\n",
       "      <td>0</td>\n",
       "      <td>0</td>\n",
       "    </tr>\n",
       "    <tr>\n",
       "      <th>4</th>\n",
       "      <td>0</td>\n",
       "      <td>2</td>\n",
       "      <td>70.70</td>\n",
       "      <td>151.65</td>\n",
       "      <td>1</td>\n",
       "      <td>1</td>\n",
       "      <td>0</td>\n",
       "      <td>1</td>\n",
       "      <td>0</td>\n",
       "      <td>1</td>\n",
       "      <td>...</td>\n",
       "      <td>0</td>\n",
       "      <td>1</td>\n",
       "      <td>0</td>\n",
       "      <td>0</td>\n",
       "      <td>0</td>\n",
       "      <td>1</td>\n",
       "      <td>0</td>\n",
       "      <td>0</td>\n",
       "      <td>1</td>\n",
       "      <td>0</td>\n",
       "    </tr>\n",
       "  </tbody>\n",
       "</table>\n",
       "<p>5 rows × 46 columns</p>\n",
       "</div>"
      ],
      "text/plain": [
       "   SeniorCitizen  tenure  MonthlyCharges  TotalCharges  Churn  gender_Female  \\\n",
       "0              0       1           29.85         29.85      0              1   \n",
       "1              0      34           56.95       1889.50      0              0   \n",
       "2              0       2           53.85        108.15      1              0   \n",
       "3              0      45           42.30       1840.75      0              0   \n",
       "4              0       2           70.70        151.65      1              1   \n",
       "\n",
       "   gender_Male  Partner_No  Partner_Yes  Dependents_No  ...  \\\n",
       "0            0           0            1              1  ...   \n",
       "1            1           1            0              1  ...   \n",
       "2            1           1            0              1  ...   \n",
       "3            1           1            0              1  ...   \n",
       "4            0           1            0              1  ...   \n",
       "\n",
       "   StreamingMovies_Yes  Contract_Month-to-month  Contract_One year  \\\n",
       "0                    0                        1                  0   \n",
       "1                    0                        0                  1   \n",
       "2                    0                        1                  0   \n",
       "3                    0                        0                  1   \n",
       "4                    0                        1                  0   \n",
       "\n",
       "   Contract_Two year  PaperlessBilling_No  PaperlessBilling_Yes  \\\n",
       "0                  0                    0                     1   \n",
       "1                  0                    1                     0   \n",
       "2                  0                    0                     1   \n",
       "3                  0                    1                     0   \n",
       "4                  0                    0                     1   \n",
       "\n",
       "   PaymentMethod_Bank transfer (automatic)  \\\n",
       "0                                        0   \n",
       "1                                        0   \n",
       "2                                        0   \n",
       "3                                        1   \n",
       "4                                        0   \n",
       "\n",
       "   PaymentMethod_Credit card (automatic)  PaymentMethod_Electronic check  \\\n",
       "0                                      0                               1   \n",
       "1                                      0                               0   \n",
       "2                                      0                               0   \n",
       "3                                      0                               0   \n",
       "4                                      0                               1   \n",
       "\n",
       "   PaymentMethod_Mailed check  \n",
       "0                           0  \n",
       "1                           1  \n",
       "2                           1  \n",
       "3                           0  \n",
       "4                           0  \n",
       "\n",
       "[5 rows x 46 columns]"
      ]
     },
     "execution_count": 18,
     "metadata": {},
     "output_type": "execute_result"
    }
   ],
   "source": [
    "ndf_encoded = pd.get_dummies(ndfy_encoded, columns = ['gender','Partner','Dependents', 'PhoneService',\n",
    "                                        'MultipleLines','InternetService', 'OnlineSecurity',\n",
    "                                        'OnlineBackup','DeviceProtection','TechSupport',\n",
    "                                        'StreamingTV','StreamingMovies','Contract',\n",
    "                                        'PaperlessBilling', 'PaymentMethod'])\n",
    "ndf_encoded.head()"
   ]
  },
  {
   "cell_type": "code",
   "execution_count": 19,
   "id": "20ddbd01",
   "metadata": {},
   "outputs": [
    {
     "data": {
      "text/html": [
       "<div>\n",
       "<style scoped>\n",
       "    .dataframe tbody tr th:only-of-type {\n",
       "        vertical-align: middle;\n",
       "    }\n",
       "\n",
       "    .dataframe tbody tr th {\n",
       "        vertical-align: top;\n",
       "    }\n",
       "\n",
       "    .dataframe thead th {\n",
       "        text-align: right;\n",
       "    }\n",
       "</style>\n",
       "<table border=\"1\" class=\"dataframe\">\n",
       "  <thead>\n",
       "    <tr style=\"text-align: right;\">\n",
       "      <th></th>\n",
       "      <th>SeniorCitizen</th>\n",
       "      <th>tenure</th>\n",
       "      <th>MonthlyCharges</th>\n",
       "      <th>TotalCharges</th>\n",
       "      <th>gender_Female</th>\n",
       "      <th>gender_Male</th>\n",
       "      <th>Partner_No</th>\n",
       "      <th>Partner_Yes</th>\n",
       "      <th>Dependents_No</th>\n",
       "      <th>Dependents_Yes</th>\n",
       "      <th>...</th>\n",
       "      <th>StreamingMovies_Yes</th>\n",
       "      <th>Contract_Month-to-month</th>\n",
       "      <th>Contract_One year</th>\n",
       "      <th>Contract_Two year</th>\n",
       "      <th>PaperlessBilling_No</th>\n",
       "      <th>PaperlessBilling_Yes</th>\n",
       "      <th>PaymentMethod_Bank transfer (automatic)</th>\n",
       "      <th>PaymentMethod_Credit card (automatic)</th>\n",
       "      <th>PaymentMethod_Electronic check</th>\n",
       "      <th>PaymentMethod_Mailed check</th>\n",
       "    </tr>\n",
       "  </thead>\n",
       "  <tbody>\n",
       "    <tr>\n",
       "      <th>0</th>\n",
       "      <td>0</td>\n",
       "      <td>1</td>\n",
       "      <td>29.85</td>\n",
       "      <td>29.85</td>\n",
       "      <td>1</td>\n",
       "      <td>0</td>\n",
       "      <td>0</td>\n",
       "      <td>1</td>\n",
       "      <td>1</td>\n",
       "      <td>0</td>\n",
       "      <td>...</td>\n",
       "      <td>0</td>\n",
       "      <td>1</td>\n",
       "      <td>0</td>\n",
       "      <td>0</td>\n",
       "      <td>0</td>\n",
       "      <td>1</td>\n",
       "      <td>0</td>\n",
       "      <td>0</td>\n",
       "      <td>1</td>\n",
       "      <td>0</td>\n",
       "    </tr>\n",
       "    <tr>\n",
       "      <th>1</th>\n",
       "      <td>0</td>\n",
       "      <td>34</td>\n",
       "      <td>56.95</td>\n",
       "      <td>1889.50</td>\n",
       "      <td>0</td>\n",
       "      <td>1</td>\n",
       "      <td>1</td>\n",
       "      <td>0</td>\n",
       "      <td>1</td>\n",
       "      <td>0</td>\n",
       "      <td>...</td>\n",
       "      <td>0</td>\n",
       "      <td>0</td>\n",
       "      <td>1</td>\n",
       "      <td>0</td>\n",
       "      <td>1</td>\n",
       "      <td>0</td>\n",
       "      <td>0</td>\n",
       "      <td>0</td>\n",
       "      <td>0</td>\n",
       "      <td>1</td>\n",
       "    </tr>\n",
       "    <tr>\n",
       "      <th>2</th>\n",
       "      <td>0</td>\n",
       "      <td>2</td>\n",
       "      <td>53.85</td>\n",
       "      <td>108.15</td>\n",
       "      <td>0</td>\n",
       "      <td>1</td>\n",
       "      <td>1</td>\n",
       "      <td>0</td>\n",
       "      <td>1</td>\n",
       "      <td>0</td>\n",
       "      <td>...</td>\n",
       "      <td>0</td>\n",
       "      <td>1</td>\n",
       "      <td>0</td>\n",
       "      <td>0</td>\n",
       "      <td>0</td>\n",
       "      <td>1</td>\n",
       "      <td>0</td>\n",
       "      <td>0</td>\n",
       "      <td>0</td>\n",
       "      <td>1</td>\n",
       "    </tr>\n",
       "    <tr>\n",
       "      <th>3</th>\n",
       "      <td>0</td>\n",
       "      <td>45</td>\n",
       "      <td>42.30</td>\n",
       "      <td>1840.75</td>\n",
       "      <td>0</td>\n",
       "      <td>1</td>\n",
       "      <td>1</td>\n",
       "      <td>0</td>\n",
       "      <td>1</td>\n",
       "      <td>0</td>\n",
       "      <td>...</td>\n",
       "      <td>0</td>\n",
       "      <td>0</td>\n",
       "      <td>1</td>\n",
       "      <td>0</td>\n",
       "      <td>1</td>\n",
       "      <td>0</td>\n",
       "      <td>1</td>\n",
       "      <td>0</td>\n",
       "      <td>0</td>\n",
       "      <td>0</td>\n",
       "    </tr>\n",
       "    <tr>\n",
       "      <th>4</th>\n",
       "      <td>0</td>\n",
       "      <td>2</td>\n",
       "      <td>70.70</td>\n",
       "      <td>151.65</td>\n",
       "      <td>1</td>\n",
       "      <td>0</td>\n",
       "      <td>1</td>\n",
       "      <td>0</td>\n",
       "      <td>1</td>\n",
       "      <td>0</td>\n",
       "      <td>...</td>\n",
       "      <td>0</td>\n",
       "      <td>1</td>\n",
       "      <td>0</td>\n",
       "      <td>0</td>\n",
       "      <td>0</td>\n",
       "      <td>1</td>\n",
       "      <td>0</td>\n",
       "      <td>0</td>\n",
       "      <td>1</td>\n",
       "      <td>0</td>\n",
       "    </tr>\n",
       "  </tbody>\n",
       "</table>\n",
       "<p>5 rows × 45 columns</p>\n",
       "</div>"
      ],
      "text/plain": [
       "   SeniorCitizen  tenure  MonthlyCharges  TotalCharges  gender_Female  \\\n",
       "0              0       1           29.85         29.85              1   \n",
       "1              0      34           56.95       1889.50              0   \n",
       "2              0       2           53.85        108.15              0   \n",
       "3              0      45           42.30       1840.75              0   \n",
       "4              0       2           70.70        151.65              1   \n",
       "\n",
       "   gender_Male  Partner_No  Partner_Yes  Dependents_No  Dependents_Yes  ...  \\\n",
       "0            0           0            1              1               0  ...   \n",
       "1            1           1            0              1               0  ...   \n",
       "2            1           1            0              1               0  ...   \n",
       "3            1           1            0              1               0  ...   \n",
       "4            0           1            0              1               0  ...   \n",
       "\n",
       "   StreamingMovies_Yes  Contract_Month-to-month  Contract_One year  \\\n",
       "0                    0                        1                  0   \n",
       "1                    0                        0                  1   \n",
       "2                    0                        1                  0   \n",
       "3                    0                        0                  1   \n",
       "4                    0                        1                  0   \n",
       "\n",
       "   Contract_Two year  PaperlessBilling_No  PaperlessBilling_Yes  \\\n",
       "0                  0                    0                     1   \n",
       "1                  0                    1                     0   \n",
       "2                  0                    0                     1   \n",
       "3                  0                    1                     0   \n",
       "4                  0                    0                     1   \n",
       "\n",
       "   PaymentMethod_Bank transfer (automatic)  \\\n",
       "0                                        0   \n",
       "1                                        0   \n",
       "2                                        0   \n",
       "3                                        1   \n",
       "4                                        0   \n",
       "\n",
       "   PaymentMethod_Credit card (automatic)  PaymentMethod_Electronic check  \\\n",
       "0                                      0                               1   \n",
       "1                                      0                               0   \n",
       "2                                      0                               0   \n",
       "3                                      0                               0   \n",
       "4                                      0                               1   \n",
       "\n",
       "   PaymentMethod_Mailed check  \n",
       "0                           0  \n",
       "1                           1  \n",
       "2                           1  \n",
       "3                           0  \n",
       "4                           0  \n",
       "\n",
       "[5 rows x 45 columns]"
      ]
     },
     "execution_count": 19,
     "metadata": {},
     "output_type": "execute_result"
    }
   ],
   "source": [
    "X = ndf_encoded.drop('Churn', axis = 1).copy()\n",
    "X.head()"
   ]
  },
  {
   "cell_type": "markdown",
   "id": "b11c8c45",
   "metadata": {},
   "source": [
    "#### Part 1- 2 f.Split the data into 80% train and 20% test."
   ]
  },
  {
   "cell_type": "code",
   "execution_count": 20,
   "id": "9e0a7fed",
   "metadata": {},
   "outputs": [
    {
     "name": "stdout",
     "output_type": "stream",
     "text": [
      "79.99% data is in training set\n",
      "20.01% data is in test set\n"
     ]
    },
    {
     "data": {
      "text/plain": [
       "0    4139\n",
       "1    1495\n",
       "Name: Churn, dtype: int64"
      ]
     },
     "metadata": {},
     "output_type": "display_data"
    },
    {
     "data": {
      "text/plain": [
       "0    73.464679\n",
       "1    26.535321\n",
       "Name: Churn, dtype: float64"
      ]
     },
     "metadata": {},
     "output_type": "display_data"
    },
    {
     "name": "stdout",
     "output_type": "stream",
     "text": [
      "None\n"
     ]
    }
   ],
   "source": [
    "x_train, x_test, y_train, y_test = train_test_split(X,y, test_size=0.2, random_state=42, stratify=y)\n",
    "print(\"{0:0.2f}% data is in training set\".format((len(x_train)/len(X.index)) * 100))\n",
    "print(\"{0:0.2f}% data is in test set\".format((len(x_test)/len(X.index)) * 100))\n",
    "print(display(y_train.value_counts(), y_train.value_counts(normalize = True)*100))"
   ]
  },
  {
   "cell_type": "markdown",
   "id": "f4bd4ade",
   "metadata": {},
   "source": [
    "#### Part 1 - 2 g.Normalize/Standardize the data with the best suitable approach"
   ]
  },
  {
   "cell_type": "markdown",
   "id": "197c476b",
   "metadata": {},
   "source": [
    "#### Normalize"
   ]
  },
  {
   "cell_type": "code",
   "execution_count": 21,
   "id": "55783f0c",
   "metadata": {},
   "outputs": [
    {
     "data": {
      "text/html": [
       "<div>\n",
       "<style scoped>\n",
       "    .dataframe tbody tr th:only-of-type {\n",
       "        vertical-align: middle;\n",
       "    }\n",
       "\n",
       "    .dataframe tbody tr th {\n",
       "        vertical-align: top;\n",
       "    }\n",
       "\n",
       "    .dataframe thead th {\n",
       "        text-align: right;\n",
       "    }\n",
       "</style>\n",
       "<table border=\"1\" class=\"dataframe\">\n",
       "  <thead>\n",
       "    <tr style=\"text-align: right;\">\n",
       "      <th></th>\n",
       "      <th>SeniorCitizen</th>\n",
       "      <th>tenure</th>\n",
       "      <th>MonthlyCharges</th>\n",
       "      <th>TotalCharges</th>\n",
       "      <th>gender_Female</th>\n",
       "      <th>gender_Male</th>\n",
       "      <th>Partner_No</th>\n",
       "      <th>Partner_Yes</th>\n",
       "      <th>Dependents_No</th>\n",
       "      <th>Dependents_Yes</th>\n",
       "      <th>...</th>\n",
       "      <th>StreamingMovies_Yes</th>\n",
       "      <th>Contract_Month-to-month</th>\n",
       "      <th>Contract_One year</th>\n",
       "      <th>Contract_Two year</th>\n",
       "      <th>PaperlessBilling_No</th>\n",
       "      <th>PaperlessBilling_Yes</th>\n",
       "      <th>PaymentMethod_Bank transfer (automatic)</th>\n",
       "      <th>PaymentMethod_Credit card (automatic)</th>\n",
       "      <th>PaymentMethod_Electronic check</th>\n",
       "      <th>PaymentMethod_Mailed check</th>\n",
       "    </tr>\n",
       "  </thead>\n",
       "  <tbody>\n",
       "    <tr>\n",
       "      <th>3738</th>\n",
       "      <td>0.0</td>\n",
       "      <td>0.486111</td>\n",
       "      <td>0.306926</td>\n",
       "      <td>0.195934</td>\n",
       "      <td>0.0</td>\n",
       "      <td>1.0</td>\n",
       "      <td>1.0</td>\n",
       "      <td>0.0</td>\n",
       "      <td>1.0</td>\n",
       "      <td>0.0</td>\n",
       "      <td>...</td>\n",
       "      <td>1.0</td>\n",
       "      <td>1.0</td>\n",
       "      <td>0.0</td>\n",
       "      <td>0.0</td>\n",
       "      <td>1.0</td>\n",
       "      <td>0.0</td>\n",
       "      <td>0.0</td>\n",
       "      <td>0.0</td>\n",
       "      <td>1.0</td>\n",
       "      <td>0.0</td>\n",
       "    </tr>\n",
       "    <tr>\n",
       "      <th>3151</th>\n",
       "      <td>0.0</td>\n",
       "      <td>0.208333</td>\n",
       "      <td>0.565022</td>\n",
       "      <td>0.132594</td>\n",
       "      <td>0.0</td>\n",
       "      <td>1.0</td>\n",
       "      <td>0.0</td>\n",
       "      <td>1.0</td>\n",
       "      <td>0.0</td>\n",
       "      <td>1.0</td>\n",
       "      <td>...</td>\n",
       "      <td>0.0</td>\n",
       "      <td>1.0</td>\n",
       "      <td>0.0</td>\n",
       "      <td>0.0</td>\n",
       "      <td>1.0</td>\n",
       "      <td>0.0</td>\n",
       "      <td>0.0</td>\n",
       "      <td>0.0</td>\n",
       "      <td>0.0</td>\n",
       "      <td>1.0</td>\n",
       "    </tr>\n",
       "    <tr>\n",
       "      <th>4860</th>\n",
       "      <td>0.0</td>\n",
       "      <td>0.180556</td>\n",
       "      <td>0.220727</td>\n",
       "      <td>0.067975</td>\n",
       "      <td>0.0</td>\n",
       "      <td>1.0</td>\n",
       "      <td>0.0</td>\n",
       "      <td>1.0</td>\n",
       "      <td>0.0</td>\n",
       "      <td>1.0</td>\n",
       "      <td>...</td>\n",
       "      <td>0.0</td>\n",
       "      <td>0.0</td>\n",
       "      <td>0.0</td>\n",
       "      <td>1.0</td>\n",
       "      <td>1.0</td>\n",
       "      <td>0.0</td>\n",
       "      <td>0.0</td>\n",
       "      <td>0.0</td>\n",
       "      <td>0.0</td>\n",
       "      <td>1.0</td>\n",
       "    </tr>\n",
       "    <tr>\n",
       "      <th>3867</th>\n",
       "      <td>0.0</td>\n",
       "      <td>0.361111</td>\n",
       "      <td>0.549078</td>\n",
       "      <td>0.219429</td>\n",
       "      <td>1.0</td>\n",
       "      <td>0.0</td>\n",
       "      <td>0.0</td>\n",
       "      <td>1.0</td>\n",
       "      <td>1.0</td>\n",
       "      <td>0.0</td>\n",
       "      <td>...</td>\n",
       "      <td>1.0</td>\n",
       "      <td>0.0</td>\n",
       "      <td>0.0</td>\n",
       "      <td>1.0</td>\n",
       "      <td>0.0</td>\n",
       "      <td>1.0</td>\n",
       "      <td>0.0</td>\n",
       "      <td>1.0</td>\n",
       "      <td>0.0</td>\n",
       "      <td>0.0</td>\n",
       "    </tr>\n",
       "    <tr>\n",
       "      <th>3810</th>\n",
       "      <td>0.0</td>\n",
       "      <td>0.013889</td>\n",
       "      <td>0.260588</td>\n",
       "      <td>0.005130</td>\n",
       "      <td>0.0</td>\n",
       "      <td>1.0</td>\n",
       "      <td>0.0</td>\n",
       "      <td>1.0</td>\n",
       "      <td>0.0</td>\n",
       "      <td>1.0</td>\n",
       "      <td>...</td>\n",
       "      <td>0.0</td>\n",
       "      <td>1.0</td>\n",
       "      <td>0.0</td>\n",
       "      <td>0.0</td>\n",
       "      <td>1.0</td>\n",
       "      <td>0.0</td>\n",
       "      <td>0.0</td>\n",
       "      <td>0.0</td>\n",
       "      <td>1.0</td>\n",
       "      <td>0.0</td>\n",
       "    </tr>\n",
       "  </tbody>\n",
       "</table>\n",
       "<p>5 rows × 45 columns</p>\n",
       "</div>"
      ],
      "text/plain": [
       "      SeniorCitizen    tenure  MonthlyCharges  TotalCharges  gender_Female  \\\n",
       "3738            0.0  0.486111        0.306926      0.195934            0.0   \n",
       "3151            0.0  0.208333        0.565022      0.132594            0.0   \n",
       "4860            0.0  0.180556        0.220727      0.067975            0.0   \n",
       "3867            0.0  0.361111        0.549078      0.219429            1.0   \n",
       "3810            0.0  0.013889        0.260588      0.005130            0.0   \n",
       "\n",
       "      gender_Male  Partner_No  Partner_Yes  Dependents_No  Dependents_Yes  \\\n",
       "3738          1.0         1.0          0.0            1.0             0.0   \n",
       "3151          1.0         0.0          1.0            0.0             1.0   \n",
       "4860          1.0         0.0          1.0            0.0             1.0   \n",
       "3867          0.0         0.0          1.0            1.0             0.0   \n",
       "3810          1.0         0.0          1.0            0.0             1.0   \n",
       "\n",
       "      ...  StreamingMovies_Yes  Contract_Month-to-month  Contract_One year  \\\n",
       "3738  ...                  1.0                      1.0                0.0   \n",
       "3151  ...                  0.0                      1.0                0.0   \n",
       "4860  ...                  0.0                      0.0                0.0   \n",
       "3867  ...                  1.0                      0.0                0.0   \n",
       "3810  ...                  0.0                      1.0                0.0   \n",
       "\n",
       "      Contract_Two year  PaperlessBilling_No  PaperlessBilling_Yes  \\\n",
       "3738                0.0                  1.0                   0.0   \n",
       "3151                0.0                  1.0                   0.0   \n",
       "4860                1.0                  1.0                   0.0   \n",
       "3867                1.0                  0.0                   1.0   \n",
       "3810                0.0                  1.0                   0.0   \n",
       "\n",
       "      PaymentMethod_Bank transfer (automatic)  \\\n",
       "3738                                      0.0   \n",
       "3151                                      0.0   \n",
       "4860                                      0.0   \n",
       "3867                                      0.0   \n",
       "3810                                      0.0   \n",
       "\n",
       "      PaymentMethod_Credit card (automatic)  PaymentMethod_Electronic check  \\\n",
       "3738                                    0.0                             1.0   \n",
       "3151                                    0.0                             0.0   \n",
       "4860                                    0.0                             0.0   \n",
       "3867                                    1.0                             0.0   \n",
       "3810                                    0.0                             1.0   \n",
       "\n",
       "      PaymentMethod_Mailed check  \n",
       "3738                         0.0  \n",
       "3151                         1.0  \n",
       "4860                         1.0  \n",
       "3867                         0.0  \n",
       "3810                         0.0  \n",
       "\n",
       "[5 rows x 45 columns]"
      ]
     },
     "execution_count": 21,
     "metadata": {},
     "output_type": "execute_result"
    }
   ],
   "source": [
    "x_train_norm = x_train.copy()\n",
    "x_test_norm = x_test.copy()\n",
    "totalx_cols = X.columns\n",
    "for i in totalx_cols:\n",
    "    scale = MinMaxScaler().fit(x_train_norm[[i]])\n",
    "    x_train_norm[i] = scale.transform(x_train_norm[[i]])\n",
    "    x_test_norm[i] = scale.transform(x_test_norm[[i]])\n",
    "\n",
    "x_train_norm.head()"
   ]
  },
  {
   "cell_type": "markdown",
   "id": "851eb127",
   "metadata": {},
   "source": [
    "#### Part 1 - 3 a. Train a model using XGBoost. Also print best performing parameters along with train and test performance"
   ]
  },
  {
   "cell_type": "code",
   "execution_count": 22,
   "id": "3b65dd99",
   "metadata": {},
   "outputs": [
    {
     "data": {
      "text/plain": [
       "0.2653698707936959"
      ]
     },
     "execution_count": 22,
     "metadata": {},
     "output_type": "execute_result"
    }
   ],
   "source": [
    "sum(y)/len(y)"
   ]
  },
  {
   "cell_type": "code",
   "execution_count": 23,
   "id": "910208e7",
   "metadata": {},
   "outputs": [
    {
     "data": {
      "text/plain": [
       "0.2654364797728886"
      ]
     },
     "execution_count": 23,
     "metadata": {},
     "output_type": "execute_result"
    }
   ],
   "source": [
    "sum(y_test)/len(y_test)"
   ]
  },
  {
   "cell_type": "code",
   "execution_count": 24,
   "id": "2e4db7a3",
   "metadata": {},
   "outputs": [
    {
     "data": {
      "text/plain": [
       "0.2653532126375577"
      ]
     },
     "execution_count": 24,
     "metadata": {},
     "output_type": "execute_result"
    }
   ],
   "source": [
    "sum(y_train)/len(y_train)"
   ]
  },
  {
   "cell_type": "code",
   "execution_count": 25,
   "id": "60742948",
   "metadata": {},
   "outputs": [
    {
     "data": {
      "text/html": [
       "<style>#sk-container-id-1 {color: black;background-color: white;}#sk-container-id-1 pre{padding: 0;}#sk-container-id-1 div.sk-toggleable {background-color: white;}#sk-container-id-1 label.sk-toggleable__label {cursor: pointer;display: block;width: 100%;margin-bottom: 0;padding: 0.3em;box-sizing: border-box;text-align: center;}#sk-container-id-1 label.sk-toggleable__label-arrow:before {content: \"▸\";float: left;margin-right: 0.25em;color: #696969;}#sk-container-id-1 label.sk-toggleable__label-arrow:hover:before {color: black;}#sk-container-id-1 div.sk-estimator:hover label.sk-toggleable__label-arrow:before {color: black;}#sk-container-id-1 div.sk-toggleable__content {max-height: 0;max-width: 0;overflow: hidden;text-align: left;background-color: #f0f8ff;}#sk-container-id-1 div.sk-toggleable__content pre {margin: 0.2em;color: black;border-radius: 0.25em;background-color: #f0f8ff;}#sk-container-id-1 input.sk-toggleable__control:checked~div.sk-toggleable__content {max-height: 200px;max-width: 100%;overflow: auto;}#sk-container-id-1 input.sk-toggleable__control:checked~label.sk-toggleable__label-arrow:before {content: \"▾\";}#sk-container-id-1 div.sk-estimator input.sk-toggleable__control:checked~label.sk-toggleable__label {background-color: #d4ebff;}#sk-container-id-1 div.sk-label input.sk-toggleable__control:checked~label.sk-toggleable__label {background-color: #d4ebff;}#sk-container-id-1 input.sk-hidden--visually {border: 0;clip: rect(1px 1px 1px 1px);clip: rect(1px, 1px, 1px, 1px);height: 1px;margin: -1px;overflow: hidden;padding: 0;position: absolute;width: 1px;}#sk-container-id-1 div.sk-estimator {font-family: monospace;background-color: #f0f8ff;border: 1px dotted black;border-radius: 0.25em;box-sizing: border-box;margin-bottom: 0.5em;}#sk-container-id-1 div.sk-estimator:hover {background-color: #d4ebff;}#sk-container-id-1 div.sk-parallel-item::after {content: \"\";width: 100%;border-bottom: 1px solid gray;flex-grow: 1;}#sk-container-id-1 div.sk-label:hover label.sk-toggleable__label {background-color: #d4ebff;}#sk-container-id-1 div.sk-serial::before {content: \"\";position: absolute;border-left: 1px solid gray;box-sizing: border-box;top: 0;bottom: 0;left: 50%;z-index: 0;}#sk-container-id-1 div.sk-serial {display: flex;flex-direction: column;align-items: center;background-color: white;padding-right: 0.2em;padding-left: 0.2em;position: relative;}#sk-container-id-1 div.sk-item {position: relative;z-index: 1;}#sk-container-id-1 div.sk-parallel {display: flex;align-items: stretch;justify-content: center;background-color: white;position: relative;}#sk-container-id-1 div.sk-item::before, #sk-container-id-1 div.sk-parallel-item::before {content: \"\";position: absolute;border-left: 1px solid gray;box-sizing: border-box;top: 0;bottom: 0;left: 50%;z-index: -1;}#sk-container-id-1 div.sk-parallel-item {display: flex;flex-direction: column;z-index: 1;position: relative;background-color: white;}#sk-container-id-1 div.sk-parallel-item:first-child::after {align-self: flex-end;width: 50%;}#sk-container-id-1 div.sk-parallel-item:last-child::after {align-self: flex-start;width: 50%;}#sk-container-id-1 div.sk-parallel-item:only-child::after {width: 0;}#sk-container-id-1 div.sk-dashed-wrapped {border: 1px dashed gray;margin: 0 0.4em 0.5em 0.4em;box-sizing: border-box;padding-bottom: 0.4em;background-color: white;}#sk-container-id-1 div.sk-label label {font-family: monospace;font-weight: bold;display: inline-block;line-height: 1.2em;}#sk-container-id-1 div.sk-label-container {text-align: center;}#sk-container-id-1 div.sk-container {/* jupyter's `normalize.less` sets `[hidden] { display: none; }` but bootstrap.min.css set `[hidden] { display: none !important; }` so we also need the `!important` here to be able to override the default hidden behavior on the sphinx rendered scikit-learn.org. See: https://github.com/scikit-learn/scikit-learn/issues/21755 */display: inline-block !important;position: relative;}#sk-container-id-1 div.sk-text-repr-fallback {display: none;}</style><div id=\"sk-container-id-1\" class=\"sk-top-container\"><div class=\"sk-text-repr-fallback\"><pre>RandomizedSearchCV(cv=StratifiedKFold(n_splits=3, random_state=0, shuffle=True),\n",
       "                   estimator=XGBClassifier(base_score=None, booster=None,\n",
       "                                           callbacks=None,\n",
       "                                           colsample_bylevel=None,\n",
       "                                           colsample_bynode=None,\n",
       "                                           colsample_bytree=None,\n",
       "                                           early_stopping_rounds=None,\n",
       "                                           enable_categorical=False,\n",
       "                                           eval_metric=None, feature_types=None,\n",
       "                                           gamma=None, gpu_id=None,\n",
       "                                           grow_policy=None,\n",
       "                                           importanc...\n",
       "                                           num_parallel_tree=None,\n",
       "                                           predictor=None, random_state=None, ...),\n",
       "                   n_iter=48, n_jobs=-1,\n",
       "                   param_distributions={&#x27;colsample_bytree&#x27;: [0.3, 0.4, 0.5, 0.6,\n",
       "                                                             0.7, 0.8, 0.9],\n",
       "                                        &#x27;gamma&#x27;: [0.0, 0.1, 0.2, 0.3, 0.4],\n",
       "                                        &#x27;learning_rate&#x27;: [0.0001, 0.001, 0.01,\n",
       "                                                          0.1, 1],\n",
       "                                        &#x27;max_depth&#x27;: range(3, 21, 30),\n",
       "                                        &#x27;reg_alpha&#x27;: [1e-05, 0.01, 0.1, 1, 10,\n",
       "                                                      100],\n",
       "                                        &#x27;reg_lambda&#x27;: [1e-05, 0.01, 0.1, 1, 10,\n",
       "                                                       100]},\n",
       "                   refit=&#x27;recall&#x27;, scoring=[&#x27;recall&#x27;])</pre><b>In a Jupyter environment, please rerun this cell to show the HTML representation or trust the notebook. <br />On GitHub, the HTML representation is unable to render, please try loading this page with nbviewer.org.</b></div><div class=\"sk-container\" hidden><div class=\"sk-item sk-dashed-wrapped\"><div class=\"sk-label-container\"><div class=\"sk-label sk-toggleable\"><input class=\"sk-toggleable__control sk-hidden--visually\" id=\"sk-estimator-id-1\" type=\"checkbox\" ><label for=\"sk-estimator-id-1\" class=\"sk-toggleable__label sk-toggleable__label-arrow\">RandomizedSearchCV</label><div class=\"sk-toggleable__content\"><pre>RandomizedSearchCV(cv=StratifiedKFold(n_splits=3, random_state=0, shuffle=True),\n",
       "                   estimator=XGBClassifier(base_score=None, booster=None,\n",
       "                                           callbacks=None,\n",
       "                                           colsample_bylevel=None,\n",
       "                                           colsample_bynode=None,\n",
       "                                           colsample_bytree=None,\n",
       "                                           early_stopping_rounds=None,\n",
       "                                           enable_categorical=False,\n",
       "                                           eval_metric=None, feature_types=None,\n",
       "                                           gamma=None, gpu_id=None,\n",
       "                                           grow_policy=None,\n",
       "                                           importanc...\n",
       "                                           num_parallel_tree=None,\n",
       "                                           predictor=None, random_state=None, ...),\n",
       "                   n_iter=48, n_jobs=-1,\n",
       "                   param_distributions={&#x27;colsample_bytree&#x27;: [0.3, 0.4, 0.5, 0.6,\n",
       "                                                             0.7, 0.8, 0.9],\n",
       "                                        &#x27;gamma&#x27;: [0.0, 0.1, 0.2, 0.3, 0.4],\n",
       "                                        &#x27;learning_rate&#x27;: [0.0001, 0.001, 0.01,\n",
       "                                                          0.1, 1],\n",
       "                                        &#x27;max_depth&#x27;: range(3, 21, 30),\n",
       "                                        &#x27;reg_alpha&#x27;: [1e-05, 0.01, 0.1, 1, 10,\n",
       "                                                      100],\n",
       "                                        &#x27;reg_lambda&#x27;: [1e-05, 0.01, 0.1, 1, 10,\n",
       "                                                       100]},\n",
       "                   refit=&#x27;recall&#x27;, scoring=[&#x27;recall&#x27;])</pre></div></div></div><div class=\"sk-parallel\"><div class=\"sk-parallel-item\"><div class=\"sk-item\"><div class=\"sk-label-container\"><div class=\"sk-label sk-toggleable\"><input class=\"sk-toggleable__control sk-hidden--visually\" id=\"sk-estimator-id-2\" type=\"checkbox\" ><label for=\"sk-estimator-id-2\" class=\"sk-toggleable__label sk-toggleable__label-arrow\">estimator: XGBClassifier</label><div class=\"sk-toggleable__content\"><pre>XGBClassifier(base_score=None, booster=None, callbacks=None,\n",
       "              colsample_bylevel=None, colsample_bynode=None,\n",
       "              colsample_bytree=None, early_stopping_rounds=None,\n",
       "              enable_categorical=False, eval_metric=None, feature_types=None,\n",
       "              gamma=None, gpu_id=None, grow_policy=None, importance_type=None,\n",
       "              interaction_constraints=None, learning_rate=None, max_bin=None,\n",
       "              max_cat_threshold=None, max_cat_to_onehot=None,\n",
       "              max_delta_step=None, max_depth=None, max_leaves=None,\n",
       "              min_child_weight=None, missing=nan, monotone_constraints=None,\n",
       "              n_estimators=100, n_jobs=None, num_parallel_tree=None,\n",
       "              predictor=None, random_state=None, ...)</pre></div></div></div><div class=\"sk-serial\"><div class=\"sk-item\"><div class=\"sk-estimator sk-toggleable\"><input class=\"sk-toggleable__control sk-hidden--visually\" id=\"sk-estimator-id-3\" type=\"checkbox\" ><label for=\"sk-estimator-id-3\" class=\"sk-toggleable__label sk-toggleable__label-arrow\">XGBClassifier</label><div class=\"sk-toggleable__content\"><pre>XGBClassifier(base_score=None, booster=None, callbacks=None,\n",
       "              colsample_bylevel=None, colsample_bynode=None,\n",
       "              colsample_bytree=None, early_stopping_rounds=None,\n",
       "              enable_categorical=False, eval_metric=None, feature_types=None,\n",
       "              gamma=None, gpu_id=None, grow_policy=None, importance_type=None,\n",
       "              interaction_constraints=None, learning_rate=None, max_bin=None,\n",
       "              max_cat_threshold=None, max_cat_to_onehot=None,\n",
       "              max_delta_step=None, max_depth=None, max_leaves=None,\n",
       "              min_child_weight=None, missing=nan, monotone_constraints=None,\n",
       "              n_estimators=100, n_jobs=None, num_parallel_tree=None,\n",
       "              predictor=None, random_state=None, ...)</pre></div></div></div></div></div></div></div></div></div></div>"
      ],
      "text/plain": [
       "RandomizedSearchCV(cv=StratifiedKFold(n_splits=3, random_state=0, shuffle=True),\n",
       "                   estimator=XGBClassifier(base_score=None, booster=None,\n",
       "                                           callbacks=None,\n",
       "                                           colsample_bylevel=None,\n",
       "                                           colsample_bynode=None,\n",
       "                                           colsample_bytree=None,\n",
       "                                           early_stopping_rounds=None,\n",
       "                                           enable_categorical=False,\n",
       "                                           eval_metric=None, feature_types=None,\n",
       "                                           gamma=None, gpu_id=None,\n",
       "                                           grow_policy=None,\n",
       "                                           importanc...\n",
       "                                           num_parallel_tree=None,\n",
       "                                           predictor=None, random_state=None, ...),\n",
       "                   n_iter=48, n_jobs=-1,\n",
       "                   param_distributions={'colsample_bytree': [0.3, 0.4, 0.5, 0.6,\n",
       "                                                             0.7, 0.8, 0.9],\n",
       "                                        'gamma': [0.0, 0.1, 0.2, 0.3, 0.4],\n",
       "                                        'learning_rate': [0.0001, 0.001, 0.01,\n",
       "                                                          0.1, 1],\n",
       "                                        'max_depth': range(3, 21, 30),\n",
       "                                        'reg_alpha': [1e-05, 0.01, 0.1, 1, 10,\n",
       "                                                      100],\n",
       "                                        'reg_lambda': [1e-05, 0.01, 0.1, 1, 10,\n",
       "                                                       100]},\n",
       "                   refit='recall', scoring=['recall'])"
      ]
     },
     "execution_count": 25,
     "metadata": {},
     "output_type": "execute_result"
    }
   ],
   "source": [
    "param_grid = { \n",
    "     \"learning_rate\": [0.0001,0.001, 0.01, 0.1, 1] ,\n",
    "    \"max_depth\": range(3,21,30),\n",
    "    \"gamma\": [i/10.0 for i in range(0,5)],\n",
    "    \"colsample_bytree\": [i/10.0 for i in range(3,10)],\n",
    "    \"reg_alpha\": [1e-5, 1e-2, 0.1, 1, 10, 100],\n",
    "    \"reg_lambda\": [1e-5, 1e-2, 0.1, 1, 10, 100]}\n",
    "scoring = ['recall']\n",
    "kfold = StratifiedKFold(n_splits=3, shuffle=True, random_state=0)\n",
    "\n",
    "xgbooster = XGBClassifier() \n",
    "\n",
    "random_search = RandomizedSearchCV(estimator=xgbooster, \n",
    "                           param_distributions=param_grid, \n",
    "                           n_iter=48,\n",
    "                           scoring=scoring, \n",
    "                           refit='recall', \n",
    "                           n_jobs=-1, \n",
    "                           cv=kfold, \n",
    "                           verbose=0)\n",
    "random_result = random_search.fit(x_train_norm, y_train)\n",
    "random_result\n"
   ]
  },
  {
   "cell_type": "code",
   "execution_count": 26,
   "id": "12dd0e42",
   "metadata": {},
   "outputs": [
    {
     "data": {
      "text/plain": [
       "array([0, 1, 0, ..., 0, 0, 0])"
      ]
     },
     "execution_count": 26,
     "metadata": {},
     "output_type": "execute_result"
    }
   ],
   "source": [
    "y_predicted = random_search.predict(x_test_norm)\n",
    "y_predicted "
   ]
  },
  {
   "cell_type": "code",
   "execution_count": 27,
   "id": "a90b7fb4",
   "metadata": {},
   "outputs": [
    {
     "name": "stdout",
     "output_type": "stream",
     "text": [
      "The best score is 0.5331\n",
      "The best score standard deviation is 0.036\n",
      "The best hyperparameters are {'reg_lambda': 100, 'reg_alpha': 1e-05, 'max_depth': 3, 'learning_rate': 1, 'gamma': 0.4, 'colsample_bytree': 0.7}\n"
     ]
    }
   ],
   "source": [
    "print(f'The best score is {random_result.best_score_:.4f}')\n",
    "print('The best score standard deviation is', round(random_result.cv_results_['std_test_recall'][random_result.best_index_], 4))\n",
    "print(f'The best hyperparameters are {random_result.best_params_}')"
   ]
  },
  {
   "cell_type": "code",
   "execution_count": 28,
   "id": "1c8a16f4",
   "metadata": {
    "scrolled": true
   },
   "outputs": [
    {
     "data": {
      "image/png": "[encoded data removed]",
      "text/plain": [
       "<Figure size 720x504 with 2 Axes>"
      ]
     },
     "metadata": {
      "needs_background": "light"
     },
     "output_type": "display_data"
    }
   ],
   "source": [
    "from sklearn.metrics import plot_confusion_matrix\n",
    "conf_matr = metrics.confusion_matrix(y_test, y_predicted)\n",
    "df_conf_matr = pd.DataFrame(conf_matr)\n",
    "plt.figure(figsize = (10,7))\n",
    "sns.heatmap(df_conf_matr, annot=True, fmt = 'g')\n",
    "plt.show()"
   ]
  },
  {
   "cell_type": "markdown",
   "id": "dc72e6c6",
   "metadata": {},
   "source": [
    "### The best performance parameters: \n",
    "<li> {'reg_lambda': 1, 'reg_alpha': 10, 'max_depth': 3, 'learning_rate': 1, 'gamma': 0.2, 'colsample_bytree': 0.7}\n",
    "<li> The best score is 0.5424\n",
    "<li> The best score standard deviation is 0.0295\n"
   ]
  },
  {
   "cell_type": "markdown",
   "id": "9674379c",
   "metadata": {},
   "source": [
    "#### Part 1 - 3 b Improve performance of the XGBoost as much as possible. Also print best performing parameters along with train and test performance."
   ]
  },
  {
   "cell_type": "code",
   "execution_count": 29,
   "id": "40181d12",
   "metadata": {},
   "outputs": [
    {
     "data": {
      "text/html": [
       "<style>#sk-container-id-2 {color: black;background-color: white;}#sk-container-id-2 pre{padding: 0;}#sk-container-id-2 div.sk-toggleable {background-color: white;}#sk-container-id-2 label.sk-toggleable__label {cursor: pointer;display: block;width: 100%;margin-bottom: 0;padding: 0.3em;box-sizing: border-box;text-align: center;}#sk-container-id-2 label.sk-toggleable__label-arrow:before {content: \"▸\";float: left;margin-right: 0.25em;color: #696969;}#sk-container-id-2 label.sk-toggleable__label-arrow:hover:before {color: black;}#sk-container-id-2 div.sk-estimator:hover label.sk-toggleable__label-arrow:before {color: black;}#sk-container-id-2 div.sk-toggleable__content {max-height: 0;max-width: 0;overflow: hidden;text-align: left;background-color: #f0f8ff;}#sk-container-id-2 div.sk-toggleable__content pre {margin: 0.2em;color: black;border-radius: 0.25em;background-color: #f0f8ff;}#sk-container-id-2 input.sk-toggleable__control:checked~div.sk-toggleable__content {max-height: 200px;max-width: 100%;overflow: auto;}#sk-container-id-2 input.sk-toggleable__control:checked~label.sk-toggleable__label-arrow:before {content: \"▾\";}#sk-container-id-2 div.sk-estimator input.sk-toggleable__control:checked~label.sk-toggleable__label {background-color: #d4ebff;}#sk-container-id-2 div.sk-label input.sk-toggleable__control:checked~label.sk-toggleable__label {background-color: #d4ebff;}#sk-container-id-2 input.sk-hidden--visually {border: 0;clip: rect(1px 1px 1px 1px);clip: rect(1px, 1px, 1px, 1px);height: 1px;margin: -1px;overflow: hidden;padding: 0;position: absolute;width: 1px;}#sk-container-id-2 div.sk-estimator {font-family: monospace;background-color: #f0f8ff;border: 1px dotted black;border-radius: 0.25em;box-sizing: border-box;margin-bottom: 0.5em;}#sk-container-id-2 div.sk-estimator:hover {background-color: #d4ebff;}#sk-container-id-2 div.sk-parallel-item::after {content: \"\";width: 100%;border-bottom: 1px solid gray;flex-grow: 1;}#sk-container-id-2 div.sk-label:hover label.sk-toggleable__label {background-color: #d4ebff;}#sk-container-id-2 div.sk-serial::before {content: \"\";position: absolute;border-left: 1px solid gray;box-sizing: border-box;top: 0;bottom: 0;left: 50%;z-index: 0;}#sk-container-id-2 div.sk-serial {display: flex;flex-direction: column;align-items: center;background-color: white;padding-right: 0.2em;padding-left: 0.2em;position: relative;}#sk-container-id-2 div.sk-item {position: relative;z-index: 1;}#sk-container-id-2 div.sk-parallel {display: flex;align-items: stretch;justify-content: center;background-color: white;position: relative;}#sk-container-id-2 div.sk-item::before, #sk-container-id-2 div.sk-parallel-item::before {content: \"\";position: absolute;border-left: 1px solid gray;box-sizing: border-box;top: 0;bottom: 0;left: 50%;z-index: -1;}#sk-container-id-2 div.sk-parallel-item {display: flex;flex-direction: column;z-index: 1;position: relative;background-color: white;}#sk-container-id-2 div.sk-parallel-item:first-child::after {align-self: flex-end;width: 50%;}#sk-container-id-2 div.sk-parallel-item:last-child::after {align-self: flex-start;width: 50%;}#sk-container-id-2 div.sk-parallel-item:only-child::after {width: 0;}#sk-container-id-2 div.sk-dashed-wrapped {border: 1px dashed gray;margin: 0 0.4em 0.5em 0.4em;box-sizing: border-box;padding-bottom: 0.4em;background-color: white;}#sk-container-id-2 div.sk-label label {font-family: monospace;font-weight: bold;display: inline-block;line-height: 1.2em;}#sk-container-id-2 div.sk-label-container {text-align: center;}#sk-container-id-2 div.sk-container {/* jupyter's `normalize.less` sets `[hidden] { display: none; }` but bootstrap.min.css set `[hidden] { display: none !important; }` so we also need the `!important` here to be able to override the default hidden behavior on the sphinx rendered scikit-learn.org. See: https://github.com/scikit-learn/scikit-learn/issues/21755 */display: inline-block !important;position: relative;}#sk-container-id-2 div.sk-text-repr-fallback {display: none;}</style><div id=\"sk-container-id-2\" class=\"sk-top-container\"><div class=\"sk-text-repr-fallback\"><pre>GridSearchCV(cv=StratifiedKFold(n_splits=3, random_state=0, shuffle=True),\n",
       "             estimator=XGBClassifier(base_score=None, booster=None,\n",
       "                                     callbacks=None, colsample_bylevel=None,\n",
       "                                     colsample_bynode=None,\n",
       "                                     colsample_bytree=None,\n",
       "                                     early_stopping_rounds=None,\n",
       "                                     enable_categorical=False, eval_metric=None,\n",
       "                                     feature_types=None, gamma=None,\n",
       "                                     gpu_id=None, grow_policy=None,\n",
       "                                     importance_type...\n",
       "                                     max_delta_step=None, max_depth=None,\n",
       "                                     max_leaves=None, min_child_weight=None,\n",
       "                                     missing=nan, monotone_constraints=None,\n",
       "                                     n_estimators=100, n_jobs=None,\n",
       "                                     num_parallel_tree=None, predictor=None,\n",
       "                                     random_state=None, ...),\n",
       "             n_jobs=-1,\n",
       "             param_grid={&#x27;colsample_bytree&#x27;: [0.3, 0.5, 0.8],\n",
       "                         &#x27;gamma&#x27;: [0, 0.25, 1.0], &#x27;max_depth&#x27;: [3, 4, 5],\n",
       "                         &#x27;reg_alpha&#x27;: [0, 0.5, 1, 5],\n",
       "                         &#x27;reg_lambda&#x27;: [0.5, 1, 5, 10]},\n",
       "             refit=&#x27;recall&#x27;, scoring=[&#x27;recall&#x27;])</pre><b>In a Jupyter environment, please rerun this cell to show the HTML representation or trust the notebook. <br />On GitHub, the HTML representation is unable to render, please try loading this page with nbviewer.org.</b></div><div class=\"sk-container\" hidden><div class=\"sk-item sk-dashed-wrapped\"><div class=\"sk-label-container\"><div class=\"sk-label sk-toggleable\"><input class=\"sk-toggleable__control sk-hidden--visually\" id=\"sk-estimator-id-4\" type=\"checkbox\" ><label for=\"sk-estimator-id-4\" class=\"sk-toggleable__label sk-toggleable__label-arrow\">GridSearchCV</label><div class=\"sk-toggleable__content\"><pre>GridSearchCV(cv=StratifiedKFold(n_splits=3, random_state=0, shuffle=True),\n",
       "             estimator=XGBClassifier(base_score=None, booster=None,\n",
       "                                     callbacks=None, colsample_bylevel=None,\n",
       "                                     colsample_bynode=None,\n",
       "                                     colsample_bytree=None,\n",
       "                                     early_stopping_rounds=None,\n",
       "                                     enable_categorical=False, eval_metric=None,\n",
       "                                     feature_types=None, gamma=None,\n",
       "                                     gpu_id=None, grow_policy=None,\n",
       "                                     importance_type...\n",
       "                                     max_delta_step=None, max_depth=None,\n",
       "                                     max_leaves=None, min_child_weight=None,\n",
       "                                     missing=nan, monotone_constraints=None,\n",
       "                                     n_estimators=100, n_jobs=None,\n",
       "                                     num_parallel_tree=None, predictor=None,\n",
       "                                     random_state=None, ...),\n",
       "             n_jobs=-1,\n",
       "             param_grid={&#x27;colsample_bytree&#x27;: [0.3, 0.5, 0.8],\n",
       "                         &#x27;gamma&#x27;: [0, 0.25, 1.0], &#x27;max_depth&#x27;: [3, 4, 5],\n",
       "                         &#x27;reg_alpha&#x27;: [0, 0.5, 1, 5],\n",
       "                         &#x27;reg_lambda&#x27;: [0.5, 1, 5, 10]},\n",
       "             refit=&#x27;recall&#x27;, scoring=[&#x27;recall&#x27;])</pre></div></div></div><div class=\"sk-parallel\"><div class=\"sk-parallel-item\"><div class=\"sk-item\"><div class=\"sk-label-container\"><div class=\"sk-label sk-toggleable\"><input class=\"sk-toggleable__control sk-hidden--visually\" id=\"sk-estimator-id-5\" type=\"checkbox\" ><label for=\"sk-estimator-id-5\" class=\"sk-toggleable__label sk-toggleable__label-arrow\">estimator: XGBClassifier</label><div class=\"sk-toggleable__content\"><pre>XGBClassifier(base_score=None, booster=None, callbacks=None,\n",
       "              colsample_bylevel=None, colsample_bynode=None,\n",
       "              colsample_bytree=None, early_stopping_rounds=None,\n",
       "              enable_categorical=False, eval_metric=None, feature_types=None,\n",
       "              gamma=None, gpu_id=None, grow_policy=None, importance_type=None,\n",
       "              interaction_constraints=None, learning_rate=None, max_bin=None,\n",
       "              max_cat_threshold=None, max_cat_to_onehot=None,\n",
       "              max_delta_step=None, max_depth=None, max_leaves=None,\n",
       "              min_child_weight=None, missing=nan, monotone_constraints=None,\n",
       "              n_estimators=100, n_jobs=None, num_parallel_tree=None,\n",
       "              predictor=None, random_state=None, ...)</pre></div></div></div><div class=\"sk-serial\"><div class=\"sk-item\"><div class=\"sk-estimator sk-toggleable\"><input class=\"sk-toggleable__control sk-hidden--visually\" id=\"sk-estimator-id-6\" type=\"checkbox\" ><label for=\"sk-estimator-id-6\" class=\"sk-toggleable__label sk-toggleable__label-arrow\">XGBClassifier</label><div class=\"sk-toggleable__content\"><pre>XGBClassifier(base_score=None, booster=None, callbacks=None,\n",
       "              colsample_bylevel=None, colsample_bynode=None,\n",
       "              colsample_bytree=None, early_stopping_rounds=None,\n",
       "              enable_categorical=False, eval_metric=None, feature_types=None,\n",
       "              gamma=None, gpu_id=None, grow_policy=None, importance_type=None,\n",
       "              interaction_constraints=None, learning_rate=None, max_bin=None,\n",
       "              max_cat_threshold=None, max_cat_to_onehot=None,\n",
       "              max_delta_step=None, max_depth=None, max_leaves=None,\n",
       "              min_child_weight=None, missing=nan, monotone_constraints=None,\n",
       "              n_estimators=100, n_jobs=None, num_parallel_tree=None,\n",
       "              predictor=None, random_state=None, ...)</pre></div></div></div></div></div></div></div></div></div></div>"
      ],
      "text/plain": [
       "GridSearchCV(cv=StratifiedKFold(n_splits=3, random_state=0, shuffle=True),\n",
       "             estimator=XGBClassifier(base_score=None, booster=None,\n",
       "                                     callbacks=None, colsample_bylevel=None,\n",
       "                                     colsample_bynode=None,\n",
       "                                     colsample_bytree=None,\n",
       "                                     early_stopping_rounds=None,\n",
       "                                     enable_categorical=False, eval_metric=None,\n",
       "                                     feature_types=None, gamma=None,\n",
       "                                     gpu_id=None, grow_policy=None,\n",
       "                                     importance_type...\n",
       "                                     max_delta_step=None, max_depth=None,\n",
       "                                     max_leaves=None, min_child_weight=None,\n",
       "                                     missing=nan, monotone_constraints=None,\n",
       "                                     n_estimators=100, n_jobs=None,\n",
       "                                     num_parallel_tree=None, predictor=None,\n",
       "                                     random_state=None, ...),\n",
       "             n_jobs=-1,\n",
       "             param_grid={'colsample_bytree': [0.3, 0.5, 0.8],\n",
       "                         'gamma': [0, 0.25, 1.0], 'max_depth': [3, 4, 5],\n",
       "                         'reg_alpha': [0, 0.5, 1, 5],\n",
       "                         'reg_lambda': [0.5, 1, 5, 10]},\n",
       "             refit='recall', scoring=['recall'])"
      ]
     },
     "execution_count": 29,
     "metadata": {},
     "output_type": "execute_result"
    }
   ],
   "source": [
    "param_grid = { \n",
    "    \"colsample_bytree\": [ 0.3, 0.5 , 0.8 ],\n",
    "    \"reg_alpha\": [0, 0.5, 1, 5],\n",
    "    \"reg_lambda\": [0.5, 1, 5,10],\n",
    "    \"gamma\":[0,0.25,1.0],\n",
    "    \"max_depth\":[3,4,5]\n",
    "      }             \n",
    "scoring = ['recall']\n",
    "kfold = StratifiedKFold(n_splits=3, shuffle=True, random_state=0)\n",
    "xgbooster = XGBClassifier()\n",
    "grid_search = GridSearchCV(estimator=xgbooster, \n",
    "                           param_grid=param_grid, \n",
    "                           scoring=scoring, \n",
    "                           refit='recall', \n",
    "                           n_jobs=-1, \n",
    "                           cv=kfold, \n",
    "                           verbose=0)\n",
    "grid_result = grid_search.fit(x_train_norm, y_train)\n",
    "grid_result"
   ]
  },
  {
   "cell_type": "code",
   "execution_count": 30,
   "id": "482d04d8",
   "metadata": {},
   "outputs": [
    {
     "name": "stdout",
     "output_type": "stream",
     "text": [
      "The best score is 0.5398\n",
      "The best score standard deviation is 0.0247\n",
      "The best hyperparameters are {'colsample_bytree': 0.8, 'gamma': 1.0, 'max_depth': 4, 'reg_alpha': 5, 'reg_lambda': 5}\n"
     ]
    }
   ],
   "source": [
    "# Print the best score and the corresponding hyperparameters\n",
    "print(f'The best score is {grid_result.best_score_:.4f}')\n",
    "print('The best score standard deviation is', round(grid_result.cv_results_['std_test_recall'][grid_result.best_index_], 4))\n",
    "print(f'The best hyperparameters are {grid_result.best_params_}')"
   ]
  },
  {
   "cell_type": "code",
   "execution_count": 31,
   "id": "9292f197",
   "metadata": {},
   "outputs": [
    {
     "name": "stdout",
     "output_type": "stream",
     "text": [
      "[0]\tvalidation_0-aucpr:0.58301\n",
      "[1]\tvalidation_0-aucpr:0.59607\n",
      "[2]\tvalidation_0-aucpr:0.60359\n",
      "[3]\tvalidation_0-aucpr:0.63733\n",
      "[4]\tvalidation_0-aucpr:0.64296\n",
      "[5]\tvalidation_0-aucpr:0.64660\n",
      "[6]\tvalidation_0-aucpr:0.64903\n",
      "[7]\tvalidation_0-aucpr:0.64425\n",
      "[8]\tvalidation_0-aucpr:0.64896\n"
     ]
    },
    {
     "name": "stderr",
     "output_type": "stream",
     "text": [
      "C:\\ProgramData\\Anaconda3\\lib\\site-packages\\xgboost\\sklearn.py:861: UserWarning: `eval_metric` in `fit` method is deprecated for better compatibility with scikit-learn, use `eval_metric` in constructor or`set_params` instead.\n",
      "  warnings.warn(\n",
      "C:\\ProgramData\\Anaconda3\\lib\\site-packages\\xgboost\\sklearn.py:861: UserWarning: `early_stopping_rounds` in `fit` method is deprecated for better compatibility with scikit-learn, use `early_stopping_rounds` in constructor or`set_params` instead.\n",
      "  warnings.warn(\n"
     ]
    },
    {
     "name": "stdout",
     "output_type": "stream",
     "text": [
      "[9]\tvalidation_0-aucpr:0.64816\n",
      "[10]\tvalidation_0-aucpr:0.65048\n",
      "[11]\tvalidation_0-aucpr:0.65146\n",
      "[12]\tvalidation_0-aucpr:0.65395\n",
      "[13]\tvalidation_0-aucpr:0.65028\n",
      "[14]\tvalidation_0-aucpr:0.64736\n",
      "[15]\tvalidation_0-aucpr:0.65059\n",
      "[16]\tvalidation_0-aucpr:0.65145\n",
      "[17]\tvalidation_0-aucpr:0.65290\n",
      "[18]\tvalidation_0-aucpr:0.65272\n",
      "[19]\tvalidation_0-aucpr:0.65170\n",
      "[20]\tvalidation_0-aucpr:0.65174\n",
      "[21]\tvalidation_0-aucpr:0.65122\n",
      "[22]\tvalidation_0-aucpr:0.65156\n"
     ]
    }
   ],
   "source": [
    "xgbooster = XGBClassifier()\n",
    "clf_xgb = XGBClassifier(seed = 42, objective = 'binary:logistic',colsample_bytree=0.8, \n",
    "                           gamma= 1.0, max_depth= 4, reg_alpha= 5, reg_lambda= 5)\n",
    "                          \n",
    "result = clf_xgb.fit(x_train_norm, y_train, verbose = True, early_stopping_rounds= 10, eval_metric= 'aucpr',\n",
    "                    eval_set=[(x_test_norm, y_test)])\n",
    "y1_predicted = clf_xgb.predict(x_test_norm)"
   ]
  },
  {
   "cell_type": "code",
   "execution_count": 32,
   "id": "daeef325",
   "metadata": {},
   "outputs": [
    {
     "data": {
      "image/png": "[encoded data removed]",
      "text/plain": [
       "<Figure size 720x504 with 2 Axes>"
      ]
     },
     "metadata": {
      "needs_background": "light"
     },
     "output_type": "display_data"
    }
   ],
   "source": [
    "conf_matr = metrics.confusion_matrix(y_test, y1_predicted)\n",
    "df_conf_matr = pd.DataFrame(conf_matr)\n",
    "plt.figure(figsize = (10,7))\n",
    "sns.heatmap(df_conf_matr, annot=True, fmt = 'g')\n",
    "plt.show()"
   ]
  },
  {
   "cell_type": "markdown",
   "id": "bd438806",
   "metadata": {},
   "source": [
    "### Conclusion for the Improved model:\n",
    "<li>Improved score is 65.4% at 12th iteration. Before hypertuning it was 53.4%\n",
    "<li>The best hyperparameters are {'colsample_bytree': 0.8, 'gamma': 1.0, 'max_depth': 4, 'reg_alpha': 5, 'reg_lambda': 5}\n",
    "<li> The best score is 0.5398\n",
    "<li>The best score standard deviation is 0.0247\n"
   ]
  },
  {
   "cell_type": "markdown",
   "id": "f30c81d1",
   "metadata": {},
   "source": [
    "## PART B"
   ]
  },
  {
   "cell_type": "markdown",
   "id": "eff2ad6d",
   "metadata": {},
   "source": [
    "#### Part 2 - Build a machine learning pipeline that will run autonomously with the csv file and return bestperforming model"
   ]
  },
  {
   "cell_type": "markdown",
   "id": "2db3022f",
   "metadata": {},
   "source": [
    "### Checking Null values"
   ]
  },
  {
   "cell_type": "code",
   "execution_count": 33,
   "id": "87f1ef30",
   "metadata": {},
   "outputs": [],
   "source": [
    "def missing_values_fun(data):\n",
    "    percentage_missing = data.isnull().sum() * 100 / len(data)\n",
    "    data = data.replace(r'^\\s*$', np.nan, regex=True)\n",
    "    data = data.apply(lambda x: x.fillna(0),axis=0)\n",
    "    missing_values = [\"?\", \"a\", \"-\",\" \"]\n",
    "    ndfnew1 = data.replace(missing_values, np.nan)\n",
    "    ndfnew1 = data.apply(lambda x: x.fillna(0),axis=0)\n",
    "    Null_per = ndfnew1.isnull().sum()\n",
    "    print(ndfnew1.iloc[1340,:])\n",
    "    return ndfnew1"
   ]
  },
  {
   "cell_type": "markdown",
   "id": "3f6f40e6",
   "metadata": {},
   "source": [
    "### Converting catagorical values to numeric"
   ]
  },
  {
   "cell_type": "code",
   "execution_count": 34,
   "id": "f09a6e63",
   "metadata": {},
   "outputs": [],
   "source": [
    "def to_numeric(dataset, attr_name):\n",
    "    unique_vals = dataset[attr_name].unique()\n",
    "    val_dict = {}\n",
    "    for val in unique_vals:\n",
    "        if not val in val_dict:\n",
    "            val_dict[val] = len(val_dict)\n",
    "    dataset[attr_name].replace(val_dict, inplace=True)\n",
    "    return dataset, val_dict"
   ]
  },
  {
   "cell_type": "code",
   "execution_count": 35,
   "id": "b5506770",
   "metadata": {},
   "outputs": [],
   "source": [
    "def convertobj(data, columnname):\n",
    "    data[columnname] = data[columnname].apply(pd.to_numeric, errors='coerce')\n",
    "    return data"
   ]
  },
  {
   "cell_type": "markdown",
   "id": "4925911e",
   "metadata": {},
   "source": [
    "### Creating dummies"
   ]
  },
  {
   "cell_type": "code",
   "execution_count": 36,
   "id": "3bac393b",
   "metadata": {},
   "outputs": [],
   "source": [
    "def create_dummies(data, target_feature):\n",
    "    data.drop(columns = target_feature, axis=1,  inplace=True)\n",
    "    data_columnlist = data.select_dtypes(include=['object']).columns.tolist()\n",
    "    \n",
    "    for i in data_columnlist:\n",
    "        column_count = len(data[i].value_counts())\n",
    "        if column_count == len(data):\n",
    "            data.drop(i, axis=1, inplace = True)\n",
    "        else:\n",
    "            ndf_encoded1 = pd.get_dummies(data, i)\n",
    "            return ndf_encoded1\n",
    "    return ndf_encoded1"
   ]
  },
  {
   "cell_type": "markdown",
   "id": "84c78964",
   "metadata": {},
   "source": [
    "###  Split the data into train and test"
   ]
  },
  {
   "cell_type": "code",
   "execution_count": 37,
   "id": "d94beaa0",
   "metadata": {},
   "outputs": [],
   "source": [
    "def split_xy(encode, target_feature, test):\n",
    "    x1_train, x1_test, y1_train, y1_test = train_test_split(encode,target_feature, test_size=test, random_state=42, stratify=target_feature)\n",
    "    print(\"{0:0.2f}% data is in training set\".format((len(x1_train)/len(encode.index)) * 100))\n",
    "    print(\"{0:0.2f}% data is in test set\".format((len(x1_test)/len(encode.index)) * 100))\n",
    "    print(display(y1_train.value_counts(), y1_train.value_counts(normalize = True)*100))\n",
    "    return x1_train, x1_test, y1_train, y1_test"
   ]
  },
  {
   "cell_type": "markdown",
   "id": "bacb82d5",
   "metadata": {},
   "source": [
    "### Normalize the Data"
   ]
  },
  {
   "cell_type": "code",
   "execution_count": 38,
   "id": "2e650bee",
   "metadata": {},
   "outputs": [],
   "source": [
    "def norm(x_train, x_test, encode):\n",
    "    x_train_norm = x_train.copy()\n",
    "    x_test_norm = x_test.copy()\n",
    "    totalx_cols = encode.columns\n",
    "    scaler = MinMaxScaler()\n",
    "    x_train_scaled = scaler.fit_transform(x_train_norm)\n",
    "    x_test_scaled = scaler.fit_transform(x_test_norm)\n",
    "    return x_train_scaled, x_test_scaled"
   ]
  },
  {
   "cell_type": "markdown",
   "id": "0bb4e058",
   "metadata": {},
   "source": [
    "### Random search method"
   ]
  },
  {
   "cell_type": "code",
   "execution_count": 39,
   "id": "1c3705cb",
   "metadata": {},
   "outputs": [],
   "source": [
    "def rand_search(x_train_norm, x_test_norm, y1_train):\n",
    "    param_grid = { \n",
    "    \"learning_rate\": [0.0001,0.001, 0.01, 0.1, 1] ,\n",
    "    \"max_depth\": range(3,21,30),\n",
    "    \"gamma\": [i/10.0 for i in range(0,5)],\n",
    "    \"colsample_bytree\": [i/10.0 for i in range(3,10)],\n",
    "    \"reg_alpha\": [1e-5, 1e-2, 0.1, 1, 10, 100],\n",
    "    \"reg_lambda\": [1e-5, 1e-2, 0.1, 1, 10, 100]}\n",
    "    scoring = ['recall']\n",
    "    kfold = StratifiedKFold(n_splits=3, shuffle=True, random_state=0)\n",
    "    xgbooster = XGBClassifier() \n",
    "    rand_model = RandomizedSearchCV(estimator=xgbooster, \n",
    "                           param_distributions=param_grid, \n",
    "                           n_iter=48,\n",
    "                           scoring=scoring, \n",
    "                           refit='recall', \n",
    "                           n_jobs=-1, \n",
    "                           cv=kfold, \n",
    "                           verbose=0)\n",
    "    random_result = rand_model.fit(x_train_norm, y1_train)\n",
    "    pickle_rand = 'rand_model'\n",
    "    picklefile = open(pickle_rand, 'wb')\n",
    "    pickle.dump(rand_model, picklefile)\n",
    "    print(f'The best score of RandomSearch is {random_result.best_score_:.4f}')\n",
    "    print('The best score of RandomSearch standard deviation is', round(random_result.cv_results_['std_test_recall'][random_result.best_index_], 4))\n",
    "    print(f'The best hyperparameters of RandomSearch is {random_result.best_params_}')\n",
    "    y_predicted = rand_model.predict(x_test_norm)\n",
    "    return random_result, y_predicted, pickle_rand"
   ]
  },
  {
   "cell_type": "markdown",
   "id": "e768c441",
   "metadata": {},
   "source": [
    "### Gridsearch Method"
   ]
  },
  {
   "cell_type": "code",
   "execution_count": 40,
   "id": "0a3fe4d1",
   "metadata": {},
   "outputs": [],
   "source": [
    "def grid_search(x_train_norm, x_test_norm, y1_train):\n",
    "    param_grid = { \n",
    "    \"colsample_bytree\": [ 0.3, 0.5 , 0.8 ],\n",
    "    \"reg_alpha\": [0, 0.5, 1, 5],\n",
    "    \"reg_lambda\": [0.5, 1, 5,10],\n",
    "    \"gamma\":[0,0.25,1.0],\n",
    "    \"max_depth\":[3,4,5]\n",
    "      }\n",
    "    scoring = ['recall']\n",
    "    kfold = StratifiedKFold(n_splits=3, shuffle=True, random_state=0)\n",
    "    xgbooster = XGBClassifier()\n",
    "    grid_model = GridSearchCV(estimator=xgbooster, \n",
    "                           param_grid=param_grid, \n",
    "                           scoring=scoring, \n",
    "                           refit='recall', \n",
    "                           n_jobs=-1, \n",
    "                           cv=kfold, \n",
    "                           verbose=0)\n",
    "    grid_result = grid_model.fit(x_train_norm, y1_train)\n",
    "    pickle_grid = 'grid_model'\n",
    "    picklefile = open(pickle_grid, 'wb')\n",
    "    pickle.dump(grid_model, picklefile)\n",
    "    print(f'The best score of GridSearch is {grid_result.best_score_:.4f}')\n",
    "    print('The best score standard deviation of GridSearch is', round(grid_result.cv_results_['std_test_recall'][grid_result.best_index_], 4))\n",
    "    print(f'The best hyperparameters of GridSearch is {grid_result.best_params_}')\n",
    "    y_predicted = grid_model.predict(x_test_norm)\n",
    "    return grid_result, y_predicted, pickle_grid"
   ]
  },
  {
   "cell_type": "markdown",
   "id": "02e3021a",
   "metadata": {},
   "source": [
    "### Random Forest Classifier Model"
   ]
  },
  {
   "cell_type": "code",
   "execution_count": 41,
   "id": "7ae6ecf8",
   "metadata": {},
   "outputs": [],
   "source": [
    "def randomforest(x_train_norm, x_test_norm, y1_train, y1_test):\n",
    "    RF_model = RandomForestClassifier(n_estimators = 50)\n",
    "    rfcl = RF_model.fit(x_train_norm, y1_train)\n",
    "    pickle_RF = 'RF_model'\n",
    "    picklefile = open(pickle_RF, 'wb')\n",
    "    pickle.dump(RF_model, picklefile)\n",
    "    RF_train_score = rfcl.score(x_train_norm, y1_train)\n",
    "    RF_test_score = rfcl.score(x_test_norm, y1_test)\n",
    "    print(\"train score of RF:\", RF_train_score )\n",
    "    print(\"test score of RF:\", RF_test_score)\n",
    "    y_predicted = rfcl.predict(x_test_norm)\n",
    "    acc_RF = accuracy_score(y1_test, y_predicted)\n",
    "    return rfcl, y_predicted,acc_RF, RF_train_score, RF_test_score, pickle_RF"
   ]
  },
  {
   "cell_type": "markdown",
   "id": "e55f01a4",
   "metadata": {},
   "source": [
    "### Decision Tree Model"
   ]
  },
  {
   "cell_type": "code",
   "execution_count": 42,
   "id": "84457dad",
   "metadata": {},
   "outputs": [],
   "source": [
    "def dTree(x_train_norm,x_test_norm, y1_train, y1_test):\n",
    "    dTree_model = DecisionTreeClassifier(criterion = 'gini', random_state=1)\n",
    "    dTree1 = dTree_model.fit(x_train_norm, y1_train)\n",
    "    pickle_dTree = 'dTree_model'\n",
    "    picklefile = open(pickle_dTree, 'wb')\n",
    "    pickle.dump(dTree_model, picklefile)\n",
    "    dTrainscore = dTree1.score(x_train_norm, y1_train)\n",
    "    dTestscore = dTree1.score(x_test_norm, y1_test)\n",
    "    print(\"train score of DecisionTree:\", dTrainscore )\n",
    "    print(\"test score of DecisionTree:\", dTestscore )\n",
    "    y_predicted = dTree1.predict(x_test_norm)\n",
    "    return dTree1, dTrainscore, dTestscore, y_predicted, pickle_dTree"
   ]
  },
  {
   "cell_type": "markdown",
   "id": "8c08e376",
   "metadata": {},
   "source": [
    "### Confusion Matrix"
   ]
  },
  {
   "cell_type": "code",
   "execution_count": 43,
   "id": "5a58909e",
   "metadata": {},
   "outputs": [],
   "source": [
    "def conf_mat(y_test, predict):\n",
    "    conf_matr = metrics.confusion_matrix(y_test, predict)\n",
    "    df_conf_matr = pd.DataFrame(conf_matr)\n",
    "    plt.figure(figsize = (10,7))\n",
    "    sns.heatmap(df_conf_matr, annot=True, fmt = 'g')\n",
    "    plt.show()"
   ]
  },
  {
   "cell_type": "markdown",
   "id": "9429f1b4",
   "metadata": {},
   "source": [
    "## Preprocessing the Data"
   ]
  },
  {
   "cell_type": "markdown",
   "id": "a700e374",
   "metadata": {},
   "source": [
    "#### * DataFrame 2 (TelcomCustomer_Churn_2.csv) alone considered for this study"
   ]
  },
  {
   "cell_type": "code",
   "execution_count": 44,
   "id": "db5b64e6",
   "metadata": {},
   "outputs": [],
   "source": [
    "def preprocess_data(path_to_csv,target_feature, columntoconvert):\n",
    "# 1. Reading CSV file\n",
    "    data = pd.read_csv(path_to_csv)\n",
    "    \n",
    "# 2. Checking the Null Values\n",
    "    Nullvalue = missing_values_fun(data)\n",
    "    \n",
    "# 3. Convert object to numeric\n",
    "    objtonum = columntoconvert\n",
    "    numericdata = convertobj(Nullvalue, objtonum)\n",
    "\n",
    "# 4. Replacing Target feature to Numeric    \n",
    "    unique_vals = numericdata[target_feature].unique()\n",
    "    val_dict = {}\n",
    "    for val in unique_vals:\n",
    "        if not val in val_dict:\n",
    "            val_dict[val] = len(val_dict)\n",
    "        target = numericdata[target_feature].replace(val_dict)\n",
    "        \n",
    "# 5. Creating dummies for catagorical values\n",
    "    ndf_encoded1 = create_dummies(numericdata, target_feature)                         \n",
    "    return ndf_encoded1, target"
   ]
  },
  {
   "cell_type": "code",
   "execution_count": 45,
   "id": "cef69a12",
   "metadata": {},
   "outputs": [],
   "source": [
    "def clf_report(y1_test, y_predicted):\n",
    "    report_table = classification_report(y1_test, y_predicted)\n",
    "    report = classification_report(y1_test, y_predicted, output_dict=True)\n",
    "    lst = list(report)\n",
    "    accuracy = report[lst[2]]\n",
    "    print(report_table,'\\n')\n",
    "    print('Accuracy:', accuracy,'\\n')\n",
    "    return report, accuracy"
   ]
  },
  {
   "cell_type": "markdown",
   "id": "35a0ce90",
   "metadata": {},
   "source": [
    "## Main Method"
   ]
  },
  {
   "cell_type": "code",
   "execution_count": 46,
   "id": "52eccd05",
   "metadata": {},
   "outputs": [
    {
     "name": "stdout",
     "output_type": "stream",
     "text": [
      "customerID                       1371-DWPAZ\n",
      "OnlineBackup                            Yes\n",
      "DeviceProtection                        Yes\n",
      "TechSupport                             Yes\n",
      "StreamingTV                             Yes\n",
      "StreamingMovies                          No\n",
      "Contract                           Two year\n",
      "PaperlessBilling                         No\n",
      "PaymentMethod       Credit card (automatic)\n",
      "MonthlyCharges                        56.05\n",
      "TotalCharges                              0\n",
      "Churn                                    No\n",
      "Name: 1340, dtype: object\n",
      "preprocessing completed \n",
      "\n",
      "79.99% data is in training set\n",
      "20.01% data is in test set\n"
     ]
    },
    {
     "data": {
      "text/plain": [
       "0    4139\n",
       "1    1495\n",
       "Name: Churn, dtype: int64"
      ]
     },
     "metadata": {},
     "output_type": "display_data"
    },
    {
     "data": {
      "text/plain": [
       "0    73.464679\n",
       "1    26.535321\n",
       "Name: Churn, dtype: float64"
      ]
     },
     "metadata": {},
     "output_type": "display_data"
    },
    {
     "name": "stdout",
     "output_type": "stream",
     "text": [
      "None\n",
      "Splitting completed \n",
      "\n",
      "Normalizing completed \n",
      "\n",
      "The best score of RandomSearch is 0.5117\n",
      "The best score of RandomSearch standard deviation is 0.0345\n",
      "The best hyperparameters of RandomSearch is {'reg_lambda': 1, 'reg_alpha': 1, 'max_depth': 3, 'learning_rate': 1, 'gamma': 0.4, 'colsample_bytree': 0.7}\n",
      "RandomSearch Algorithm completed\n"
     ]
    },
    {
     "data": {
      "image/png": "[encoded data removed]",
      "text/plain": [
       "<Figure size 720x504 with 2 Axes>"
      ]
     },
     "metadata": {
      "needs_background": "light"
     },
     "output_type": "display_data"
    },
    {
     "name": "stdout",
     "output_type": "stream",
     "text": [
      "RandomSearch Confusion matrix completed\n",
      "              precision    recall  f1-score   support\n",
      "\n",
      "           0       0.83      0.88      0.85      1035\n",
      "           1       0.59      0.49      0.53       374\n",
      "\n",
      "    accuracy                           0.77      1409\n",
      "   macro avg       0.71      0.68      0.69      1409\n",
      "weighted avg       0.76      0.77      0.77      1409\n",
      " \n",
      "\n",
      "Accuracy: 0.772888573456352 \n",
      "\n",
      "The best score of GridSearch is 0.5217\n",
      "The best score standard deviation of GridSearch is 0.0454\n",
      "The best hyperparameters of GridSearch is {'colsample_bytree': 0.8, 'gamma': 0, 'max_depth': 3, 'reg_alpha': 0, 'reg_lambda': 1}\n",
      "GridSearch Algorithm completed\n"
     ]
    },
    {
     "data": {
      "image/png": "[encoded data removed]",
      "text/plain": [
       "<Figure size 720x504 with 2 Axes>"
      ]
     },
     "metadata": {
      "needs_background": "light"
     },
     "output_type": "display_data"
    },
    {
     "name": "stdout",
     "output_type": "stream",
     "text": [
      "Grid Confusion matrix completed\n",
      "              precision    recall  f1-score   support\n",
      "\n",
      "           0       0.83      0.90      0.87      1035\n",
      "           1       0.65      0.50      0.56       374\n",
      "\n",
      "    accuracy                           0.80      1409\n",
      "   macro avg       0.74      0.70      0.72      1409\n",
      "weighted avg       0.78      0.80      0.79      1409\n",
      " \n",
      "\n",
      "Accuracy: 0.7955997161107168 \n",
      "\n",
      "train score of RF: 0.9950301739439119\n",
      "test score of RF: 0.7707594038325053\n",
      "RF Algorithm completed\n"
     ]
    },
    {
     "data": {
      "image/png": "[encoded data removed]",
      "text/plain": [
       "<Figure size 720x504 with 2 Axes>"
      ]
     },
     "metadata": {
      "needs_background": "light"
     },
     "output_type": "display_data"
    },
    {
     "name": "stdout",
     "output_type": "stream",
     "text": [
      "RF Confusion matrix completed\n",
      "              precision    recall  f1-score   support\n",
      "\n",
      "           0       0.82      0.88      0.85      1035\n",
      "           1       0.59      0.47      0.52       374\n",
      "\n",
      "    accuracy                           0.77      1409\n",
      "   macro avg       0.70      0.67      0.68      1409\n",
      "weighted avg       0.76      0.77      0.76      1409\n",
      " \n",
      "\n",
      "Accuracy: 0.7707594038325053 \n",
      "\n",
      "train score of DecisionTree: 0.996272630457934\n",
      "test score of DecisionTree: 0.7274662881476224\n",
      "DecisionTree algorithm completed\n"
     ]
    },
    {
     "data": {
      "image/png": "[encoded data removed]",
      "text/plain": [
       "<Figure size 720x504 with 2 Axes>"
      ]
     },
     "metadata": {
      "needs_background": "light"
     },
     "output_type": "display_data"
    },
    {
     "name": "stdout",
     "output_type": "stream",
     "text": [
      "DTree Confusion matrix completed\n",
      "              precision    recall  f1-score   support\n",
      "\n",
      "           0       0.82      0.81      0.81      1035\n",
      "           1       0.49      0.51      0.50       374\n",
      "\n",
      "    accuracy                           0.73      1409\n",
      "   macro avg       0.65      0.66      0.65      1409\n",
      "weighted avg       0.73      0.73      0.73      1409\n",
      " \n",
      "\n",
      "Accuracy: 0.7274662881476224 \n",
      "\n",
      "\n",
      " \u001b[1mBest model for the above DataSet: GridSearch\n"
     ]
    }
   ],
   "source": [
    "# 1. Reading CSV file\n",
    "encode, target = preprocess_data('C:\\\\Users\\\\Sai\\\\Desktop\\GL\\\\Project3_ensumble_techniques\\\\TelcomCustomer_Churn_2.csv', 'Churn','TotalCharges')\n",
    "print(\"preprocessing completed\",'\\n')\n",
    "\n",
    "# 2. split\n",
    "testper = 0.2\n",
    "x1_train, x1_test, y1_train, y1_test = split_xy(encode, target, testper)\n",
    "print(\"Splitting completed\",'\\n')\n",
    "\n",
    "# 3. Norm\n",
    "x_train_norm, x_test_norm = norm(x1_train, x1_test, encode)\n",
    "P = x1_train.isnull().sum()* 100 / len(x1_train)\n",
    "print(\"Normalizing completed\",'\\n')\n",
    "\n",
    "# 4. Random search\n",
    "rand_search, rand_y_predicted, pickle_rand = rand_search(x_train_norm, x_test_norm, y1_train)\n",
    "print(\"RandomSearch Algorithm completed\")\n",
    "\n",
    "# 5.  Plot confusion matrix\n",
    "conf_mat(y1_test, rand_y_predicted)\n",
    "print(\"RandomSearch Confusion matrix completed\")\n",
    "\n",
    "# 6. Classification Report of RandomSearch\n",
    "rand_report, acc_rand = clf_report(y1_test, rand_y_predicted)\n",
    "acc = {}\n",
    "acc['RandomSearch'] = acc_rand\n",
    "\n",
    "# 7.  GridSerch algorithm\n",
    "grid_search, grid_y_predicted, pickle_grid = grid_search(x_train_norm, x_test_norm, y1_train)\n",
    "print(\"GridSearch Algorithm completed\")\n",
    "\n",
    "# 8.  Plot confusion matrix\n",
    "conf_mat(y1_test, grid_y_predicted)\n",
    "print(\"Grid Confusion matrix completed\")\n",
    "\n",
    "# 9. Classification Report of GridSearch\n",
    "grid_report, acc_grid = clf_report(y1_test, grid_y_predicted)\n",
    "acc['GridSearch'] = acc_grid\n",
    "\n",
    "# 10. RandomForest Method\n",
    "rfcl, RF_y_predicted,acc_RF, RF_train_score, RF_test_score, pickle_RF = randomforest(x_train_norm, x_test_norm, y1_train, y1_test)\n",
    "print(\"RF Algorithm completed\")\n",
    "\n",
    "# 11.  Plot confusion matrix\n",
    "conf_mat(y1_test, RF_y_predicted)\n",
    "print(\"RF Confusion matrix completed\")\n",
    "\n",
    "# 12. Classification Report of RF\n",
    "RF_report, acc_RF = clf_report(y1_test, RF_y_predicted)\n",
    "acc['RandomForest'] = acc_RF\n",
    "\n",
    "# 13. DecisionTree Method\n",
    "dTree1, dTrainscore, dTestscore, dTree_y_predicted,pickle_dTree = dTree(x_train_norm,x_test_norm, y1_train, y1_test)\n",
    "print(\"DecisionTree algorithm completed\")\n",
    "\n",
    "# 14.  Plot confusion matrix\n",
    "conf_mat(y1_test, dTree_y_predicted)\n",
    "print(\"DTree Confusion matrix completed\")\n",
    "\n",
    "# 15. Classification Report of dTree\n",
    "dTree_report, acc_dTree = clf_report(y1_test, dTree_y_predicted)\n",
    "acc['DecisionTree'] = acc_dTree\n",
    "\n",
    "# 16. Best Model for the above DataSet\n",
    "Best_model = max(acc, key=acc.get)\n",
    "print('\\n', '\\033[1m' + \"Best model for the above DataSet:\", Best_model)\n"
   ]
  },
  {
   "cell_type": "markdown",
   "id": "1748fc06",
   "metadata": {},
   "source": [
    "## Loading Pickled files"
   ]
  },
  {
   "cell_type": "code",
   "execution_count": 47,
   "id": "ee29342a",
   "metadata": {
    "scrolled": true
   },
   "outputs": [
    {
     "data": {
      "text/plain": [
       "array([0, 0, 0, ..., 0, 0, 0])"
      ]
     },
     "execution_count": 47,
     "metadata": {},
     "output_type": "execute_result"
    }
   ],
   "source": [
    "pickled_rand_model = pickle.load(open(pickle_rand, 'rb'))\n",
    "pickled_rand_model.predict(x_test_norm)"
   ]
  },
  {
   "cell_type": "code",
   "execution_count": 48,
   "id": "f5787d98",
   "metadata": {},
   "outputs": [
    {
     "data": {
      "text/plain": [
       "array([0, 1, 0, ..., 0, 0, 0])"
      ]
     },
     "execution_count": 48,
     "metadata": {},
     "output_type": "execute_result"
    }
   ],
   "source": [
    "pickled_grid_model = pickle.load(open(pickle_grid, 'rb'))\n",
    "pickled_grid_model.predict(x_test_norm)"
   ]
  },
  {
   "cell_type": "code",
   "execution_count": 49,
   "id": "6252bf85",
   "metadata": {},
   "outputs": [
    {
     "data": {
      "text/plain": [
       "array([0, 1, 0, ..., 0, 0, 0], dtype=int64)"
      ]
     },
     "execution_count": 49,
     "metadata": {},
     "output_type": "execute_result"
    }
   ],
   "source": [
    "pickled_RF_model = pickle.load(open(pickle_RF, 'rb'))\n",
    "pickled_RF_model.predict(x_test_norm)"
   ]
  },
  {
   "cell_type": "code",
   "execution_count": 50,
   "id": "4b2bb85e",
   "metadata": {},
   "outputs": [
    {
     "data": {
      "text/plain": [
       "array([0, 0, 0, ..., 0, 0, 0], dtype=int64)"
      ]
     },
     "execution_count": 50,
     "metadata": {},
     "output_type": "execute_result"
    }
   ],
   "source": [
    "pickled_dTree_model = pickle.load(open(pickle_dTree, 'rb'))\n",
    "pickled_dTree_model.predict(x_test_norm)"
   ]
  }
 ],
 "metadata": {
  "kernelspec": {
   "display_name": "Python 3 (ipykernel)",
   "language": "python",
   "name": "python3"
  },
  "language_info": {
   "codemirror_mode": {
    "name": "ipython",
    "version": 3
   },
   "file_extension": ".py",
   "mimetype": "text/x-python",
   "name": "python",
   "nbconvert_exporter": "python",
   "pygments_lexer": "ipython3",
   "version": "3.9.12"
  }
 },
 "nbformat": 4,
 "nbformat_minor": 5
}
